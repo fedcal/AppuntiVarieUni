{
 "cells": [
  {
   "cell_type": "markdown",
   "metadata": {},
   "source": [
    "## Esercizio 48\n",
    "\n",
    "F1 ha 0.015 di probabilità di essere rotto.\n",
    "F2 ha 0.005.\n",
    "F3 ha 0.02.\n",
    "\n",
    "F1 è blu, F2 è verde, F3 è gialla. \n",
    "\n",
    "Sceglie il verde con 0.5, il giallo con 0.3 e il blu con 0.2.\n",
    "\n",
    "**Estrae un razzo, quale è la probabilità che sia non funzionante?**\n",
    "\n",
    "P(N|E) = P(F1,E1) + P(F2,E2) + P(F3,E3) = P(F1|E1)*P(E1) + P(F2|E2)*P(E2) + P(F3|E3)*P(E3)\n",
    "\n",
    "**Sapendo che il razzo non funziona, quale cassa è la più probabile?**\n",
    "\n",
    "P(F1|E1) = P(F1,E1)/P(E1)\n",
    "P(F2|E2) = P(F2,E2)/P(E2)\n",
    "P(F3|E3) = P(F3,E3)/P(E3)\n",
    "\n",
    "## Esercizio 49\n",
    "\n",
    "3 monete. T1=1/2, T2=1/3, T3=1/4\n",
    "\n",
    "Si sceglie una moneta a caso.\n",
    "\n",
    "\n",
    "**Probabilità che non si ottenga mai testa su due lanci**\n",
    "\n",
    "P(CC) = P(CC1,M1) + P(CC2,M2) + P(CC3,M3) = P(CC1|M1)*P(M1) + ....\n",
    "\n",
    "**Probabilità che si ottenga esattamente un esito testa su due lanci**\n",
    "\n",
    "P(TCoCT,M1) + P(TCoCT,M2) + P(TCoCT,M3) = P(TCoCT|M1)*P(M1) + ....\n",
    "\n",
    "P(TCoCT|M1) = P(TC|M1)+P(CT|M1) = 1/2*1/2 + 1/2*1/2\n",
    "\n",
    "**Probabilità che la moneta estratta sia M1 sapendo he su 3 lanci non esce mai testa**\n",
    "\n",
    "P(M1|CCC) = P(M1,CCC)/P(CCC) = P(CCC|M1)*P(M1)/P(CCC)\n",
    "\n",
    "P(CCC) = P(CCC,M1) + P(CCC,M2) + P(CCC,M3)\n",
    "\n",
    "**Probabilità che si ottenga testa, sapendo che è uscito testa**\n",
    "\n",
    "P(T2|T1) = P(T2,T1)/P(T1) = P(T2,T1,M1) + P(T2,T1,M2) + P(T2,T1,M3) / P(T,M1) + P(T,M2) + P(T,M3)"
   ]
  },
  {
   "cell_type": "code",
   "execution_count": null,
   "metadata": {
    "collapsed": true
   },
   "outputs": [],
   "source": []
  }
 ],
 "metadata": {
  "kernelspec": {
   "display_name": "R",
   "language": "R",
   "name": "ir"
  },
  "language_info": {
   "codemirror_mode": "r",
   "file_extension": ".r",
   "mimetype": "text/x-r-source",
   "name": "R",
   "pygments_lexer": "r",
   "version": "3.3.3"
  }
 },
 "nbformat": 4,
 "nbformat_minor": 2
}
