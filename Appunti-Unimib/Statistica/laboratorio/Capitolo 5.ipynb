{
 "cells": [
  {
   "cell_type": "markdown",
   "metadata": {},
   "source": [
    "# Capitolo 5\n",
    "\n",
    "## Intervalli di confidenza per la media"
   ]
  },
  {
   "cell_type": "code",
   "execution_count": 1,
   "metadata": {},
   "outputs": [
    {
     "data": {
      "text/html": [
       "<ol class=list-inline>\n",
       "\t<li>80.9149548112077</li>\n",
       "\t<li>83.0850451887923</li>\n",
       "</ol>\n"
      ],
      "text/latex": [
       "\\begin{enumerate*}\n",
       "\\item 80.9149548112077\n",
       "\\item 83.0850451887923\n",
       "\\end{enumerate*}\n"
      ],
      "text/markdown": [
       "1. 80.9149548112077\n",
       "2. 83.0850451887923\n",
       "\n",
       "\n"
      ],
      "text/plain": [
       "[1] 80.91495 83.08505\n",
       "attr(,\"conf.level\")\n",
       "[1] 0.97"
      ]
     },
     "metadata": {},
     "output_type": "display_data"
    }
   ],
   "source": [
    "library(TeachingDemos)\n",
    "\n",
    "# Popolazione non normalmente distribuita e varianza nota\n",
    "\n",
    "n = 100\n",
    "mu = 82\n",
    "varianza = 25\n",
    "confidenza = 0.97  #97%\n",
    "\n",
    "# determinare l'intervallo di confidenza per la media\n",
    "\n",
    "risultato = z.test(mu, \n",
    "                   stdev=sqrt(varianza), \n",
    "                   alternative=\"two.sided\", \n",
    "                   # two sided = intervallo infinito sia a destra che sinistra \n",
    "                   n=n, \n",
    "                   conf.level=confidenza)\n",
    "risultato$conf.int # stampa l'intervallo di confidenza\n"
   ]
  },
  {
   "cell_type": "code",
   "execution_count": 21,
   "metadata": {},
   "outputs": [
    {
     "data": {
      "text/html": [
       "<ol class=list-inline>\n",
       "\t<li>44.8138520589498</li>\n",
       "\t<li>56.1861479410502</li>\n",
       "</ol>\n"
      ],
      "text/latex": [
       "\\begin{enumerate*}\n",
       "\\item 44.8138520589498\n",
       "\\item 56.1861479410502\n",
       "\\end{enumerate*}\n"
      ],
      "text/markdown": [
       "1. 44.8138520589498\n",
       "2. 56.1861479410502\n",
       "\n",
       "\n"
      ],
      "text/plain": [
       "[1] 44.81385 56.18615\n",
       "attr(,\"conf.level\")\n",
       "[1] 0.95"
      ]
     },
     "metadata": {},
     "output_type": "display_data"
    }
   ],
   "source": [
    "# popolazione non normalmente distribuita e varianza sconosciuta\n",
    "\n",
    "numeri = sample(1:100, 100) # genera 100 numeri casuali tra 1 e 100\n",
    "\n",
    "risultato = z.test(numeri,\n",
    "                   stdev=sd(numeri), # calcola la sd sui numeri disponibili\n",
    "                   alternative=\"two.sided\", \n",
    "                   conf.level=0.95)\n",
    "                   # non specifichiamo N perchè passiamo numeri come primo parametro che è un array\n",
    "risultato$conf.int"
   ]
  },
  {
   "cell_type": "code",
   "execution_count": 24,
   "metadata": {},
   "outputs": [
    {
     "data": {
      "text/html": [
       "0.252930498369638"
      ],
      "text/latex": [
       "0.252930498369638"
      ],
      "text/markdown": [
       "0.252930498369638"
      ],
      "text/plain": [
       "[1] 0.2529305"
      ]
     },
     "metadata": {},
     "output_type": "display_data"
    },
    {
     "data": {
      "text/html": [
       "<ol class=list-inline>\n",
       "\t<li>585.490383078273</li>\n",
       "\t<li>629.938188350298</li>\n",
       "</ol>\n"
      ],
      "text/latex": [
       "\\begin{enumerate*}\n",
       "\\item 585.490383078273\n",
       "\\item 629.938188350298\n",
       "\\end{enumerate*}\n"
      ],
      "text/markdown": [
       "1. 585.490383078273\n",
       "2. 629.938188350298\n",
       "\n",
       "\n"
      ],
      "text/plain": [
       "[1] 585.4904 629.9382\n",
       "attr(,\"conf.level\")\n",
       "[1] 0.95"
      ]
     },
     "metadata": {},
     "output_type": "display_data"
    }
   ],
   "source": [
    "# popolazione normalmente distribuita e varianza nota\n",
    "\n",
    "devStd = 30\n",
    "\n",
    "frequenze = c(610, 601, 578, 615, 630, 618, 602)\n",
    "\n",
    "# determinare una stima della media\n",
    "\n",
    "stimaMedia = mean(frequenze)\n",
    "\n",
    "# determinare la probabilità che la frequenza stia tra 590 e 610\n",
    "\n",
    "pnorm(610, stimaMedia, devStd) - pnorm(590, stimaMedia, devStd)\n",
    "\n",
    "# determinare un intervallo di confidenza per la media al 95%\n",
    "\n",
    "risultato = z.test(frequenze, \n",
    "                   stdev = devStd, \n",
    "                   alternative=\"two.sided\", \n",
    "                   conf.level=0.95)\n",
    "\n",
    "risultato$conf.int"
   ]
  },
  {
   "cell_type": "code",
   "execution_count": 29,
   "metadata": {},
   "outputs": [
    {
     "data": {
      "text/html": [
       "<ol class=list-inline>\n",
       "\t<li>6.63080596967384</li>\n",
       "\t<li>11.3691940303262</li>\n",
       "</ol>\n"
      ],
      "text/latex": [
       "\\begin{enumerate*}\n",
       "\\item 6.63080596967384\n",
       "\\item 11.3691940303262\n",
       "\\end{enumerate*}\n"
      ],
      "text/markdown": [
       "1. 6.63080596967384\n",
       "2. 11.3691940303262\n",
       "\n",
       "\n"
      ],
      "text/plain": [
       "[1]  6.630806 11.369194\n",
       "attr(,\"conf.level\")\n",
       "[1] 0.95"
      ]
     },
     "metadata": {},
     "output_type": "display_data"
    }
   ],
   "source": [
    "# popolazione normalmente distribuita e varianza sconosciuta\n",
    "\n",
    "valori = c(5, 8.5, 12, 15, 7, 9, 7.5, 6.5, 10.5)\n",
    "\n",
    "# usiamo t.test e non z.test! occhio!\n",
    "risultato = t.test(valori, conf.level=0.95)\n",
    "\n",
    "risultato$conf.int"
   ]
  },
  {
   "cell_type": "markdown",
   "metadata": {},
   "source": [
    "## Intervalli di confidenza per la varianza"
   ]
  },
  {
   "cell_type": "code",
   "execution_count": 41,
   "metadata": {},
   "outputs": [
    {
     "data": {
      "text/html": [
       "<ol class=list-inline>\n",
       "\t<li>3.46163314988955</li>\n",
       "\t<li>56.5302441147412</li>\n",
       "</ol>\n"
      ],
      "text/latex": [
       "\\begin{enumerate*}\n",
       "\\item 3.46163314988955\n",
       "\\item 56.5302441147412\n",
       "\\end{enumerate*}\n"
      ],
      "text/markdown": [
       "1. 3.46163314988955\n",
       "2. 56.5302441147412\n",
       "\n",
       "\n"
      ],
      "text/plain": [
       "[1]  3.461633 56.530244\n",
       "attr(,\"conf.level\")\n",
       "[1] 0.99"
      ]
     },
     "metadata": {},
     "output_type": "display_data"
    }
   ],
   "source": [
    "# popolazione normalmente distribuita e varianza non nota\n",
    "\n",
    "valori = c(5, 8.5, 12, 15, 7, 9, 7.5, 6.5, 10.5)\n",
    "\n",
    "risultato = sigma.test(valori, conf.level=0.99)\n",
    "\n",
    "risultato$conf.int"
   ]
  },
  {
   "cell_type": "markdown",
   "metadata": {},
   "source": [
    "![](images/01.png)\n",
    "![](images/02.png)\n"
   ]
  },
  {
   "cell_type": "code",
   "execution_count": null,
   "metadata": {
    "collapsed": true
   },
   "outputs": [],
   "source": []
  }
 ],
 "metadata": {
  "kernelspec": {
   "display_name": "R",
   "language": "R",
   "name": "ir"
  },
  "language_info": {
   "codemirror_mode": "r",
   "file_extension": ".r",
   "mimetype": "text/x-r-source",
   "name": "R",
   "pygments_lexer": "r",
   "version": "3.4.0"
  }
 },
 "nbformat": 4,
 "nbformat_minor": 2
}
