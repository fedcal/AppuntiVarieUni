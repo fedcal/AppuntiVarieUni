{
 "cells": [
  {
   "cell_type": "markdown",
   "metadata": {},
   "source": [
    "# Capitolo 6 : Test parametrici"
   ]
  },
  {
   "cell_type": "code",
   "execution_count": 7,
   "metadata": {},
   "outputs": [
    {
     "data": {
      "text/html": [
       "307"
      ],
      "text/latex": [
       "307"
      ],
      "text/markdown": [
       "307"
      ],
      "text/plain": [
       "[1] 307"
      ]
     },
     "metadata": {},
     "output_type": "display_data"
    },
    {
     "data": {
      "text/html": [
       "0.158655253931457"
      ],
      "text/latex": [
       "0.158655253931457"
      ],
      "text/markdown": [
       "0.158655253931457"
      ],
      "text/plain": [
       "[1] 0.1586553"
      ]
     },
     "metadata": {},
     "output_type": "display_data"
    }
   ],
   "source": [
    "# esercizio 4\n",
    "\n",
    "media = 300\n",
    "sqm = 24 # scarto quad. med.\n",
    "\n",
    "# determinare la regola di decisione che porta al rifuito del processo produttivo vecchio\n",
    "\n",
    "significativita = 0.01\n",
    "nCorde = 64 # provando 64 corde\n",
    "\n",
    "# ipotesi nulla mu = 300\n",
    "# ipotesi alternativa mu > 300\n",
    "\n",
    "# Z = media -mu / (sigma/sqrt(n))\n",
    "# trovo Z\n",
    "\n",
    "z = qnorm(1-significativita)\n",
    "media = ceiling(z * (sqm/sqrt(nCorde)) + 300)\n",
    "media\n",
    "\n",
    "# probabilità di accettare la vecchia media quando in realtà il nuovo processo ha aumentato la rottura a 310\n",
    "\n",
    "# X è distribuito secondo una normale N(310, 24)\n",
    "# ci si chiede quindi la probabilità che X sia tra -inf, 307 dato che mu è 310\n",
    "pnorm(307, mean=310, sqm/sqrt(nCorde))"
   ]
  },
  {
   "cell_type": "markdown",
   "metadata": {},
   "source": [
    "## Test sulla media della popolazione\n",
    "\n",
    "In questo caso guardiamo il p-value. \n",
    "\n",
    "* Se il p-value è minore di $\\alpha$ allora rifiutiamo $H_0$\n",
    "* Se il p-value è maggiore di $\\alpha$ allora non si rifiuta $H_0$"
   ]
  },
  {
   "cell_type": "code",
   "execution_count": 14,
   "metadata": {},
   "outputs": [
    {
     "data": {
      "text/html": [
       "'Non rifiuto ipotesi perchè p-value maggiore di significatività'"
      ],
      "text/latex": [
       "'Non rifiuto ipotesi perchè p-value maggiore di significatività'"
      ],
      "text/markdown": [
       "'Non rifiuto ipotesi perchè p-value maggiore di significatività'"
      ],
      "text/plain": [
       "[1] \"Non rifiuto ipotesi perchè p-value maggiore di significatività\""
      ]
     },
     "metadata": {},
     "output_type": "display_data"
    },
    {
     "data": {
      "text/html": [
       "0.24356549534393"
      ],
      "text/latex": [
       "0.24356549534393"
      ],
      "text/markdown": [
       "0.24356549534393"
      ],
      "text/plain": [
       "[1] 0.2435655"
      ]
     },
     "metadata": {},
     "output_type": "display_data"
    },
    {
     "data": {
      "text/html": [
       "'Non Rifiutiamo ipotesi nulla'"
      ],
      "text/latex": [
       "'Non Rifiutiamo ipotesi nulla'"
      ],
      "text/markdown": [
       "'Non Rifiutiamo ipotesi nulla'"
      ],
      "text/plain": [
       "[1] \"Non Rifiutiamo ipotesi nulla\""
      ]
     },
     "metadata": {},
     "output_type": "display_data"
    }
   ],
   "source": [
    "library(TeachingDemos)\n",
    "# popolazione normalmente distribuita e varianza nota\n",
    "# esercizio 15\n",
    "\n",
    "campione = c(0.5, 1.2, -0.5, 0.9, 2.0, -1.2, -0.3)\n",
    "var = 2\n",
    "significativita = 0.05\n",
    "\n",
    "# testare l'ipotesi mu=0 contro mu != 0\n",
    "\n",
    "risultato = z.test(campione, mu=0, stdev=sqrt(var),conf.level = significativita)\n",
    "# output di z.test, guardare p-value\n",
    "# data:  campione\n",
    "# z = 0.69488, n = 7.00000, Std. Dev. = 1.41420, Std. Dev. of the sample\n",
    "# mean = 0.53452, ----> p-value = 0.4871 <----------------------------------\n",
    "# alternative hypothesis: true mean is not equal to 0\n",
    "# 5 percent confidence interval:\n",
    "# 0.3379104 0.4049468\n",
    "# sample estimates:\n",
    "# mean of campione \n",
    "#       0.3714286 \n",
    "if (risultato$p.value > significativita) {\n",
    "    out = \"Non rifiuto ipotesi perchè p-value maggiore di significatività\" \n",
    "} else {\n",
    "    out = \"Rifiuto\"\n",
    "}\n",
    "out\n",
    "\n",
    "# testare ora mu=0 contro mu>0\n",
    "\n",
    "z.test(campione, mu=0, \n",
    "       stdev=sqrt(var), # greater perchè > 0\n",
    "       alternative = \"greater\")$p.value\n",
    "\n",
    "# soluzione alternativa\n",
    "\n",
    "## calcolo intervallo \n",
    "z1 = qnorm(1-significativita/2) # (-z1,+z1)\n",
    "\n",
    "# calcolo il valore della statistica Zn\n",
    "Zn = (mean(campione) - 0)/(sqrt(var)/sqrt(length(campione)))\n",
    "\n",
    "if(Zn <= -z1 | Zn >= z1) {\n",
    "    out = 'Rifiutiamo ipotesi nulla'\n",
    "} else {\n",
    "    out = 'Non Rifiutiamo ipotesi nulla'\n",
    "}\n",
    "out"
   ]
  },
  {
   "cell_type": "code",
   "execution_count": 17,
   "metadata": {},
   "outputs": [
    {
     "data": {
      "text/html": [
       "0.407707647617304"
      ],
      "text/latex": [
       "0.407707647617304"
      ],
      "text/markdown": [
       "0.407707647617304"
      ],
      "text/plain": [
       "[1] 0.4077076"
      ]
     },
     "metadata": {},
     "output_type": "display_data"
    },
    {
     "data": {
      "text/html": [
       "'Non rifiutiamo visto che p-value &gt; alpha (0.1)'"
      ],
      "text/latex": [
       "'Non rifiutiamo visto che p-value > alpha (0.1)'"
      ],
      "text/markdown": [
       "'Non rifiutiamo visto che p-value &gt; alpha (0.1)'"
      ],
      "text/plain": [
       "[1] \"Non rifiutiamo visto che p-value > alpha (0.1)\""
      ]
     },
     "metadata": {},
     "output_type": "display_data"
    },
    {
     "data": {
      "text/html": [
       "'Non rifiutiamo H0'"
      ],
      "text/latex": [
       "'Non rifiutiamo H0'"
      ],
      "text/markdown": [
       "'Non rifiutiamo H0'"
      ],
      "text/plain": [
       "[1] \"Non rifiutiamo H0\""
      ]
     },
     "metadata": {},
     "output_type": "display_data"
    }
   ],
   "source": [
    "# popolazione normalmente distribuita e varianza sconosciuta\n",
    "\n",
    "campione = campione # quello di prima\n",
    "\n",
    "# testare mu=0 contro mu != 0\n",
    "\n",
    "t.test(campione, conf.level = 0.9)$p.value\n",
    "\n",
    "\"Non rifiutiamo visto che p-value > alpha (0.1)\"\n",
    "\n",
    "# soluzione alternativa\n",
    "\n",
    "media = mean(campione)\n",
    "\n",
    "quantile = qt(1-(1-0.9)/2, 6) # t di student con 6 gradi di liberta\n",
    "sdcorretta = sd(campione)\n",
    "\n",
    "margineSinistro = 0 - quantile * sdcorretta/sqrt(length(campione))\n",
    "margineDestro = 0 + quantile * sdcorretta/sqrt(length(campione))\n",
    "\n",
    "if(media <= margineSinistro | media >= margineDestro) {\n",
    "    out = 'Rifiutiamo H0'\n",
    "} else {\n",
    "    out = 'Non rifiutiamo H0'\n",
    "}\n",
    "out"
   ]
  },
  {
   "cell_type": "code",
   "execution_count": 18,
   "metadata": {},
   "outputs": [
    {
     "data": {
      "text/html": [
       "1.52397060483211e-23"
      ],
      "text/latex": [
       "1.52397060483211e-23"
      ],
      "text/markdown": [
       "1.52397060483211e-23"
      ],
      "text/plain": [
       "[1] 1.523971e-23"
      ]
     },
     "metadata": {},
     "output_type": "display_data"
    },
    {
     "data": {
      "text/html": [
       "'Visto che p-value &lt; a=0.1 rifiutiamo'"
      ],
      "text/latex": [
       "'Visto che p-value < a=0.1 rifiutiamo'"
      ],
      "text/markdown": [
       "'Visto che p-value &lt; a=0.1 rifiutiamo'"
      ],
      "text/plain": [
       "[1] \"Visto che p-value < a=0.1 rifiutiamo\""
      ]
     },
     "metadata": {},
     "output_type": "display_data"
    }
   ],
   "source": [
    "# popolazione non normalmente distribuita e varianza nota\n",
    "\n",
    "# il signor rossi desidera capie quale sia la media della \n",
    "# spesa mensile. Per 36 mesi ottiene una media campionaria \n",
    "# di 305 e varianza campionaria corretta a 225\n",
    "\n",
    "# controllare con a=0.1 l'ipotesi che la media della spesa \n",
    "# mensile sia in realtà di 280 euro\n",
    "\n",
    "risultato = z.test(305, mu=280, stdev=sqrt(225), conf.level=0.9, n=36)\n",
    "risultato$p.value\n",
    "\n",
    "\"Visto che p-value < a=0.1 rifiutiamo\""
   ]
  },
  {
   "cell_type": "markdown",
   "metadata": {},
   "source": [
    "## Test sulla varianza di una popolazione"
   ]
  },
  {
   "cell_type": "code",
   "execution_count": 52,
   "metadata": {},
   "outputs": [
    {
     "data": {
      "text/plain": [
       "\n",
       "\tOne sample Chi-squared test for variance\n",
       "\n",
       "data:  campione\n",
       "X-squared = 5.0794, df = 6, p-value = 0.9326\n",
       "alternative hypothesis: true variance is not equal to 1.44\n",
       "10 percent confidence interval:\n",
       " 1.268696 1.477074\n",
       "sample estimates:\n",
       "var of campione \n",
       "       1.219048 \n"
      ]
     },
     "metadata": {},
     "output_type": "display_data"
    },
    {
     "data": {
      "text/html": [
       "TRUE"
      ],
      "text/latex": [
       "TRUE"
      ],
      "text/markdown": [
       "TRUE"
      ],
      "text/plain": [
       "[1] TRUE"
      ]
     },
     "metadata": {},
     "output_type": "display_data"
    }
   ],
   "source": [
    "# popolazione normalmente distribuita\n",
    "\n",
    "campione = campione # usiamo quello sopra\n",
    "\n",
    "# controllare con a=0.1 l'ipotesi che la deviazione standard della popolazione sia uguala a 1.2\n",
    "\n",
    "sigma.test(campione, sigma=1.2, conf.leve=0.1)\n",
    "sigma.test(campione, sigma=1.2, conf.leve=0.1)$p.value > 0.9"
   ]
  },
  {
   "cell_type": "markdown",
   "metadata": {},
   "source": [
    "## Test sulla differenza delle medie di due popolazioni"
   ]
  },
  {
   "cell_type": "code",
   "execution_count": 63,
   "metadata": {},
   "outputs": [
    {
     "data": {
      "text/plain": [
       "\n",
       "\tTwo Sample t-test\n",
       "\n",
       "data:  x and y\n",
       "t = -7.3221, df = 14, p-value = 3.778e-06\n",
       "alternative hypothesis: true difference in means is not equal to 0\n",
       "95 percent confidence interval:\n",
       " -37.33301 -20.41699\n",
       "sample estimates:\n",
       "mean of x mean of y \n",
       "  100.125   129.000 \n"
      ]
     },
     "metadata": {},
     "output_type": "display_data"
    },
    {
     "data": {
      "text/html": [
       "FALSE"
      ],
      "text/latex": [
       "FALSE"
      ],
      "text/markdown": [
       "FALSE"
      ],
      "text/plain": [
       "[1] FALSE"
      ]
     },
     "metadata": {},
     "output_type": "display_data"
    }
   ],
   "source": [
    "library(BSDA) # si usa questa libreria \n",
    "\n",
    "# popolazioni normalmente distriuite con varianze uguali e sconosciute\n",
    "\n",
    "x = c(110, 102, 104, 96, 92, 97, 85, 115)\n",
    "y = c(125, 133, 128, 119, 134, 126, 132, 135)\n",
    "\n",
    "t.test(x,y, var.equal = T, conf.level = 0.95)\n",
    "\n",
    "t.test(x,y, var.equal = T, conf.level = 0.95)$p.value > 0.05\n",
    "# si rifiuta H0 perchè la riga sopra da FALSE"
   ]
  },
  {
   "cell_type": "code",
   "execution_count": 69,
   "metadata": {},
   "outputs": [
    {
     "data": {
      "text/plain": [
       "\n",
       "\tTwo-sample z-Test\n",
       "\n",
       "data:  x and y\n",
       "z = -3.9733, p-value = 7.088e-05\n",
       "alternative hypothesis: true difference in means is not equal to 0\n",
       "95 percent confidence interval:\n",
       " -43.11849 -14.63151\n",
       "sample estimates:\n",
       "mean of x mean of y \n",
       "  100.125   129.000 \n"
      ]
     },
     "metadata": {},
     "output_type": "display_data"
    }
   ],
   "source": [
    "# popolazioni normalmente distribuite e varianza nota ma diversa\n",
    "\n",
    "z.test(x,y,\n",
    "       sigma.x=15.5,sigma.y=13.5, \n",
    "       conf.level = 0.95)\n",
    "# guardare il p-value, che risulta più piccolo di a=0.05"
   ]
  },
  {
   "cell_type": "markdown",
   "metadata": {},
   "source": [
    "## Test sulla uguaglianza della varianza di due popolazioni\n"
   ]
  },
  {
   "cell_type": "code",
   "execution_count": 35,
   "metadata": {},
   "outputs": [
    {
     "data": {
      "text/html": [
       "1.53923975303132"
      ],
      "text/latex": [
       "1.53923975303132"
      ],
      "text/markdown": [
       "1.53923975303132"
      ],
      "text/plain": [
       "[1] 1.53924"
      ]
     },
     "metadata": {},
     "output_type": "display_data"
    },
    {
     "data": {
      "text/html": [
       "'Non rigettiamo H0 in favore di H1'"
      ],
      "text/latex": [
       "'Non rigettiamo H0 in favore di H1'"
      ],
      "text/markdown": [
       "'Non rigettiamo H0 in favore di H1'"
      ],
      "text/plain": [
       "[1] \"Non rigettiamo H0 in favore di H1\""
      ]
     },
     "metadata": {},
     "output_type": "display_data"
    },
    {
     "data": {
      "text/html": [
       "TRUE"
      ],
      "text/latex": [
       "TRUE"
      ],
      "text/markdown": [
       "TRUE"
      ],
      "text/plain": [
       "[1] TRUE"
      ]
     },
     "metadata": {},
     "output_type": "display_data"
    }
   ],
   "source": [
    "x = c(22,48,51,20,28,35,38,26,50,36)\n",
    "y = c(40,42,50,26,30,34,37,28,25,30,32,38,22,55,40)\n",
    "\n",
    "statistica = var(x)/var(y)\n",
    "statistica\n",
    "alfa = 0.1\n",
    "\n",
    "F1 = qf((alfa/2),9, 14)\n",
    "F2 = qf(1-(alfa/2),9, 14)\n",
    "\n",
    "if (statistica>=F1 & statistica<=F2) { \n",
    "    out <- 'Non rigettiamo H0 in favore di H1'\n",
    "} else { \n",
    "    out <- 'Rigettiamo H0 in favore di H1'\n",
    "}\n",
    "out\n",
    "\n",
    "# oppure ancora \n",
    "var.test(x,y, conf.level=(1-alfa))$p.value > alfa"
   ]
  },
  {
   "cell_type": "markdown",
   "metadata": {},
   "source": [
    "## Test di incorrelazione\n",
    "\n",
    "`cor.test(x,y, method=\"pearson\")`"
   ]
  },
  {
   "cell_type": "code",
   "execution_count": null,
   "metadata": {
    "collapsed": true
   },
   "outputs": [],
   "source": []
  }
 ],
 "metadata": {
  "kernelspec": {
   "display_name": "R",
   "language": "R",
   "name": "ir"
  },
  "language_info": {
   "codemirror_mode": "r",
   "file_extension": ".r",
   "mimetype": "text/x-r-source",
   "name": "R",
   "pygments_lexer": "r",
   "version": "3.4.0"
  }
 },
 "nbformat": 4,
 "nbformat_minor": 2
}
