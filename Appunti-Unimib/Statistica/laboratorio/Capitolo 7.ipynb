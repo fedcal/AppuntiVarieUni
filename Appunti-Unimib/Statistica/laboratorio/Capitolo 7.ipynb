{
 "cells": [
  {
   "cell_type": "markdown",
   "metadata": {},
   "source": [
    "# Capitolo 7: Test non parametrici\n",
    "\n",
    "## Test bonta' di adattamento"
   ]
  },
  {
   "cell_type": "code",
   "execution_count": 1,
   "metadata": {},
   "outputs": [
    {
     "data": {
      "text/plain": [
       "\n",
       "\tOne-sample Kolmogorov-Smirnov test\n",
       "\n",
       "data:  campione\n",
       "D = 0.32, p-value = 0.585\n",
       "alternative hypothesis: two-sided\n"
      ]
     },
     "metadata": {},
     "output_type": "display_data"
    },
    {
     "data": {
      "text/html": [
       "0.584985088"
      ],
      "text/latex": [
       "0.584985088"
      ],
      "text/markdown": [
       "0.584985088"
      ],
      "text/plain": [
       "[1] 0.5849851"
      ]
     },
     "metadata": {},
     "output_type": "display_data"
    },
    {
     "data": {
      "text/html": [
       "'Non si rifiuta l\\'ipotesi'"
      ],
      "text/latex": [
       "'Non si rifiuta l\\textbackslash{}'ipotesi'"
      ],
      "text/markdown": [
       "'Non si rifiuta l\\'ipotesi'"
      ],
      "text/plain": [
       "[1] \"Non si rifiuta l'ipotesi\""
      ]
     },
     "metadata": {},
     "output_type": "display_data"
    },
    {
     "data": {
      "text/html": [
       "0.171273177203466"
      ],
      "text/latex": [
       "0.171273177203466"
      ],
      "text/markdown": [
       "0.171273177203466"
      ],
      "text/plain": [
       "[1] 0.1712732"
      ]
     },
     "metadata": {},
     "output_type": "display_data"
    }
   ],
   "source": [
    "# test di KS\n",
    "\n",
    "campione = c(6.2,8.8, 9.4, 13.6, 10)\n",
    "\n",
    "# e' distribuito secondo una uniforme 0,20?\n",
    "# significativita' sottointesa a 0.1\n",
    "ks.test(campione, \"punif\", 0, 20)\n",
    "ks.test(campione, \"punif\", 0, 20)$p.value\n",
    "\"Non si rifiuta l'ipotesi\"\n",
    "\n",
    "\n",
    "# e' distribuito secondo una una esponeziale con lambda=0.1?\n",
    "ks.test(campione, \"pexp\", 0.1)$p.value"
   ]
  },
  {
   "cell_type": "code",
   "execution_count": 9,
   "metadata": {},
   "outputs": [
    {
     "data": {
      "text/plain": [
       "intervalli\n",
       "  (0,5]  (5,10] (10,15] (15,20] \n",
       "      8       9       5       8 "
      ]
     },
     "metadata": {},
     "output_type": "display_data"
    },
    {
     "data": {
      "text/plain": [
       "\n",
       "\tChi-squared test for given probabilities\n",
       "\n",
       "data:  frequenza\n",
       "X-squared = 1.2, df = 3, p-value = 0.753\n"
      ]
     },
     "metadata": {},
     "output_type": "display_data"
    }
   ],
   "source": [
    "# test del chi quadro\n",
    "\n",
    "campione = c(2.03 , 9.82 , 2.50 , 6.14 , 4.44 , 4.62 , 10.10 , 7.34 , 8.31 , 8.32 , 16.46 , 3.61,16.55 ,\n",
    "15.49 , 17.87 , 6.93 , 10.96 , 4.53, 17.72 , 7.52 , 4.69 , 6.70 , 16.24 , 6.19, 13.14 , 16.73 , 10.64 ,\n",
    "11.53, 2.78, 15.36)\n",
    "\n",
    "# controllare che sia distribuito con un uniforme tra 0 e 20\n",
    "\n",
    "limitiIntervalli = c(0,5,10,15,20)\n",
    "intervalli = cut(campione, breaks=limitiIntervalli)\n",
    "frequenza = table(intervalli)\n",
    "frequenza\n",
    "\n",
    "chisq.test(frequenza,\n",
    "           p = diff(punif(limitiIntervalli, 0, 20))\n",
    "          )\n"
   ]
  },
  {
   "cell_type": "markdown",
   "metadata": {},
   "source": [
    "## Test confronto distribuzioni"
   ]
  },
  {
   "cell_type": "code",
   "execution_count": 25,
   "metadata": {},
   "outputs": [
    {
     "data": {
      "text/html": [
       "<ol class=list-inline>\n",
       "\t<li>1</li>\n",
       "\t<li>1</li>\n",
       "\t<li>-1</li>\n",
       "\t<li>1</li>\n",
       "\t<li>1</li>\n",
       "\t<li>-1</li>\n",
       "\t<li>1</li>\n",
       "\t<li>1</li>\n",
       "\t<li>1</li>\n",
       "\t<li>1</li>\n",
       "</ol>\n"
      ],
      "text/latex": [
       "\\begin{enumerate*}\n",
       "\\item 1\n",
       "\\item 1\n",
       "\\item -1\n",
       "\\item 1\n",
       "\\item 1\n",
       "\\item -1\n",
       "\\item 1\n",
       "\\item 1\n",
       "\\item 1\n",
       "\\item 1\n",
       "\\end{enumerate*}\n"
      ],
      "text/markdown": [
       "1. 1\n",
       "2. 1\n",
       "3. -1\n",
       "4. 1\n",
       "5. 1\n",
       "6. -1\n",
       "7. 1\n",
       "8. 1\n",
       "9. 1\n",
       "10. 1\n",
       "\n",
       "\n"
      ],
      "text/plain": [
       " [1]  1  1 -1  1  1 -1  1  1  1  1"
      ]
     },
     "metadata": {},
     "output_type": "display_data"
    },
    {
     "data": {
      "text/html": [
       "6"
      ],
      "text/latex": [
       "6"
      ],
      "text/markdown": [
       "6"
      ],
      "text/plain": [
       "[1] 6"
      ]
     },
     "metadata": {},
     "output_type": "display_data"
    },
    {
     "data": {
      "text/html": [
       "4.38261270288291"
      ],
      "text/latex": [
       "4.38261270288291"
      ],
      "text/markdown": [
       "4.38261270288291"
      ],
      "text/plain": [
       "[1] 4.382613"
      ]
     },
     "metadata": {},
     "output_type": "display_data"
    }
   ],
   "source": [
    "# test dei segni\n",
    "\n",
    "prima = c( 225, 310, 287, 249, 345, 288, 247, 268, 213, 332) \n",
    "dopo = c(210, 301, 291, 212, 307, 290, 216, 245, 195, 301) \n",
    "alfa = 0.05\n",
    "\n",
    "segni = sign(prima-dopo)\n",
    "segni\n",
    "\n",
    "positivi = length(which(segni > 0))\n",
    "negativi = length(which(segni < 0))\n",
    "uguali = length(which(segni == 0))\n",
    "\n",
    "statistica = positivi-negativi\n",
    "statistica\n",
    "\n",
    "# calcolo la regione critica\n",
    "\n",
    "qnorm(1-(alfa/2)) * sqrt((length(prima)-uguali)/2) \n",
    "\n",
    "# la regione critica e'  \n",
    "# -infinito, -4.38 U 4.38, infinito\n",
    "# statistica cade nella regione critica, rifiuto l'ipotesi"
   ]
  },
  {
   "cell_type": "code",
   "execution_count": 28,
   "metadata": {},
   "outputs": [
    {
     "data": {
      "text/plain": [
       "\n",
       "\tWilcoxon rank sum test with continuity correction\n",
       "\n",
       "data:  X and Y\n",
       "W = 92, p-value = 0.36\n",
       "alternative hypothesis: true location shift is not equal to 0\n"
      ]
     },
     "metadata": {},
     "output_type": "display_data"
    },
    {
     "data": {
      "text/plain": [
       "\n",
       "\tTwo-sample Kolmogorov-Smirnov test\n",
       "\n",
       "data:  X and Y\n",
       "D = 0.55556, p-value = 0.06063\n",
       "alternative hypothesis: two-sided\n"
      ]
     },
     "metadata": {},
     "output_type": "display_data"
    }
   ],
   "source": [
    "\n",
    "\n",
    "X <- c( 225, 310, 287, 249, 345, 288, 247, 277, 267, 194)\n",
    "Y <- c( 210, 301, 291, 212, 307, 290, 216, 312, 206, 185, 199, 204, 245, 195, 301)\n",
    "\n",
    "# test dei ranghi\n",
    "\n",
    "wilcox.test(X, Y, exact = FALSE)\n",
    "\n",
    "# test di KS\n",
    "\n",
    "X <- c( 20.30, 22.53, 25.70, 13.23, 29.67, 24.46, 26.07, 19.35, 17.81,16.00, 13.50,\n",
    "32.90)\n",
    "Y <- c( 10.56, 28.13, 19.94, 11.03, 8.09, 12.95, 21.14, 32.50, 10.90 )\n",
    "\n",
    "ks.test(X,Y)"
   ]
  },
  {
   "cell_type": "markdown",
   "metadata": {},
   "source": [
    "## Test per l'indipendenza"
   ]
  },
  {
   "cell_type": "markdown",
   "metadata": {},
   "source": [
    "Stabilire se X e' indipendente da Y\n",
    "\n",
    "```\n",
    "X\\Y 0  1  2\n",
    "------------\n",
    "-1| 25 15 10\n",
    "0 | 20 30 25\n",
    "1 | 5  15 5```"
   ]
  },
  {
   "cell_type": "code",
   "execution_count": 2,
   "metadata": {},
   "outputs": [
    {
     "data": {
      "text/plain": [
       "\n",
       "\tPearson's Chi-squared test\n",
       "\n",
       "data:  m\n",
       "X-squared = 12.75, df = 4, p-value = 0.01256\n"
      ]
     },
     "metadata": {},
     "output_type": "display_data"
    }
   ],
   "source": [
    "arr <- c(25, 20, 5, 15, 30, 15, 10, 25, 5)\n",
    "m <- matrix(arr, nrow=3, ncol=3) \n",
    "chisq.test(m) # alfa sottointeso a 0.05\n",
    "# guardare sempre il p value"
   ]
  },
  {
   "cell_type": "markdown",
   "metadata": {},
   "source": [
    "## Test di incorrelazione\n"
   ]
  },
  {
   "cell_type": "code",
   "execution_count": 3,
   "metadata": {},
   "outputs": [
    {
     "data": {
      "text/html": [
       "0.327878738171004"
      ],
      "text/latex": [
       "0.327878738171004"
      ],
      "text/markdown": [
       "0.327878738171004"
      ],
      "text/plain": [
       "[1] 0.3278787"
      ]
     },
     "metadata": {},
     "output_type": "display_data"
    },
    {
     "data": {
      "text/html": [
       "1.8595480375309"
      ],
      "text/latex": [
       "1.8595480375309"
      ],
      "text/markdown": [
       "1.8595480375309"
      ],
      "text/plain": [
       "[1] 1.859548"
      ]
     },
     "metadata": {},
     "output_type": "display_data"
    },
    {
     "data": {
      "text/html": [
       "-1.8595480375309"
      ],
      "text/latex": [
       "-1.8595480375309"
      ],
      "text/markdown": [
       "-1.8595480375309"
      ],
      "text/plain": [
       "[1] -1.859548"
      ]
     },
     "metadata": {},
     "output_type": "display_data"
    }
   ],
   "source": [
    "# test di incorrelazione di spearman\n",
    "Income <- c( 3, 2, 10, 8, 5, 7, 1, 6, 9, 4)\n",
    "HDI <- c(1,2,3,4,5,6,7,8,9,10)\n",
    "\n",
    "rho <- cor(Income,HDI,method=\"spearman\")\n",
    "Tn <- rho * sqrt((10-2)/(1-rho^2))\n",
    "Tn\n",
    "\n",
    "# calcolo dei limiti della della regione critica\n",
    "qt(0.95,8)\n",
    "-qt(0.95,8)\n",
    "\n",
    "# Tn non deve stare nella regione critica"
   ]
  },
  {
   "cell_type": "code",
   "execution_count": null,
   "metadata": {
    "collapsed": true
   },
   "outputs": [],
   "source": []
  }
 ],
 "metadata": {
  "kernelspec": {
   "display_name": "R",
   "language": "R",
   "name": "ir"
  },
  "language_info": {
   "codemirror_mode": "r",
   "file_extension": ".r",
   "mimetype": "text/x-r-source",
   "name": "R",
   "pygments_lexer": "r",
   "version": "3.4.0"
  }
 },
 "nbformat": 4,
 "nbformat_minor": 2
}
