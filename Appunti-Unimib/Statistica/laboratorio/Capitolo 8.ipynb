{
 "cells": [
  {
   "cell_type": "markdown",
   "metadata": {},
   "source": [
    "# Regressione Lineare\n",
    "\n"
   ]
  },
  {
   "cell_type": "code",
   "execution_count": 2,
   "metadata": {},
   "outputs": [
    {
     "data": {
      "text/html": [
       "0.881414066317597"
      ],
      "text/latex": [
       "0.881414066317597"
      ],
      "text/markdown": [
       "0.881414066317597"
      ],
      "text/plain": [
       "[1] 0.8814141"
      ]
     },
     "metadata": {},
     "output_type": "display_data"
    },
    {
     "data": {
      "text/plain": [
       "\n",
       "Call:\n",
       "lm(formula = Y ~ X)\n",
       "\n",
       "Coefficients:\n",
       "(Intercept)            X  \n",
       "     3.5429       0.6143  \n"
      ]
     },
     "metadata": {},
     "output_type": "display_data"
    },
    {
     "data": {
      "text/html": [
       "<dl class=dl-horizontal>\n",
       "\t<dt>(Intercept)</dt>\n",
       "\t\t<dd>3.54285714285714</dd>\n",
       "\t<dt>X</dt>\n",
       "\t\t<dd>0.614285714285715</dd>\n",
       "</dl>\n"
      ],
      "text/latex": [
       "\\begin{description*}\n",
       "\\item[(Intercept)] 3.54285714285714\n",
       "\\item[X] 0.614285714285715\n",
       "\\end{description*}\n"
      ],
      "text/markdown": [
       "(Intercept)\n",
       ":   3.54285714285714X\n",
       ":   0.614285714285715\n",
       "\n"
      ],
      "text/plain": [
       "(Intercept)           X \n",
       "  3.5428571   0.6142857 "
      ]
     },
     "metadata": {},
     "output_type": "display_data"
    },
    {
     "data": {
      "image/png": "[encoded data removed]",
      "text/plain": [
       "plot without title"
      ]
     },
     "metadata": {},
     "output_type": "display_data"
    }
   ],
   "source": [
    "X = c(-3, 4, 5, 8, 6)\n",
    "Y = c(2, 6, 7, 10, 5)\n",
    "\n",
    "# coefficiente di correlazione lineare\n",
    "\n",
    "cor(X,Y, method='p')\n",
    "\n",
    "# determinare la retta di regressione lineare\n",
    "\n",
    "regressione = lm(Y ~ X)\n",
    "regressione\n",
    "regressione$coefficients\n",
    "\n",
    "# disegno il grafico\n",
    "\n",
    "plot(Y ~ X) # stampa i pallini bianchi\n",
    "abline(coef(regressione), col='red', lwd=3)"
   ]
  },
  {
   "cell_type": "code",
   "execution_count": 20,
   "metadata": {},
   "outputs": [
    {
     "data": {
      "text/html": [
       "<strong>1:</strong> 6.61428571428571"
      ],
      "text/latex": [
       "\\textbf{1:} 6.61428571428571"
      ],
      "text/markdown": [
       "**1:** 6.61428571428571"
      ],
      "text/plain": [
       "       1 \n",
       "6.614286 "
      ]
     },
     "metadata": {},
     "output_type": "display_data"
    },
    {
     "data": {
      "text/html": [
       "<dl class=dl-horizontal>\n",
       "\t<dt>1</dt>\n",
       "\t\t<dd>1.7</dd>\n",
       "\t<dt>2</dt>\n",
       "\t\t<dd>6</dd>\n",
       "\t<dt>3</dt>\n",
       "\t\t<dd>6.61428571428571</dd>\n",
       "\t<dt>4</dt>\n",
       "\t\t<dd>8.45714285714286</dd>\n",
       "\t<dt>5</dt>\n",
       "\t\t<dd>7.22857142857143</dd>\n",
       "</dl>\n"
      ],
      "text/latex": [
       "\\begin{description*}\n",
       "\\item[1] 1.7\n",
       "\\item[2] 6\n",
       "\\item[3] 6.61428571428571\n",
       "\\item[4] 8.45714285714286\n",
       "\\item[5] 7.22857142857143\n",
       "\\end{description*}\n"
      ],
      "text/markdown": [
       "1\n",
       ":   1.72\n",
       ":   63\n",
       ":   6.614285714285714\n",
       ":   8.457142857142865\n",
       ":   7.22857142857143\n",
       "\n"
      ],
      "text/plain": [
       "       1        2        3        4        5 \n",
       "1.700000 6.000000 6.614286 8.457143 7.228571 "
      ]
     },
     "metadata": {},
     "output_type": "display_data"
    }
   ],
   "source": [
    "# stima il valore di Y con X che vale 5\n",
    "predict(regressione, data.frame(X=5))\n",
    "\n",
    "# stima puntuale della variabile risposta???\n",
    "predict(regressione)"
   ]
  },
  {
   "cell_type": "code",
   "execution_count": 3,
   "metadata": {},
   "outputs": [
    {
     "data": {
      "text/html": [
       "<dl class=dl-horizontal>\n",
       "\t<dt>1</dt>\n",
       "\t\t<dd>0.3</dd>\n",
       "\t<dt>2</dt>\n",
       "\t\t<dd>6.52256026967279e-16</dd>\n",
       "\t<dt>3</dt>\n",
       "\t\t<dd>0.385714285714285</dd>\n",
       "\t<dt>4</dt>\n",
       "\t\t<dd>1.54285714285714</dd>\n",
       "\t<dt>5</dt>\n",
       "\t\t<dd>-2.22857142857143</dd>\n",
       "</dl>\n"
      ],
      "text/latex": [
       "\\begin{description*}\n",
       "\\item[1] 0.3\n",
       "\\item[2] 6.52256026967279e-16\n",
       "\\item[3] 0.385714285714285\n",
       "\\item[4] 1.54285714285714\n",
       "\\item[5] -2.22857142857143\n",
       "\\end{description*}\n"
      ],
      "text/markdown": [
       "1\n",
       ":   0.32\n",
       ":   6.52256026967279e-163\n",
       ":   0.3857142857142854\n",
       ":   1.542857142857145\n",
       ":   -2.22857142857143\n",
       "\n"
      ],
      "text/plain": [
       "            1             2             3             4             5 \n",
       " 3.000000e-01  6.522560e-16  3.857143e-01  1.542857e+00 -2.228571e+00 "
      ]
     },
     "metadata": {},
     "output_type": "display_data"
    }
   ],
   "source": [
    "# residui di un modello\n",
    "residuals(regressione)"
   ]
  },
  {
   "cell_type": "code",
   "execution_count": 4,
   "metadata": {},
   "outputs": [
    {
     "data": {
      "text/html": [
       "<table>\n",
       "<thead><tr><th></th><th scope=col>5 %</th><th scope=col>95 %</th></tr></thead>\n",
       "<tbody>\n",
       "\t<tr><th scope=row>(Intercept)</th><td>1.0930143</td><td>5.992700 </td></tr>\n",
       "\t<tr><th scope=row>X</th><td>0.1670077</td><td>1.061564 </td></tr>\n",
       "</tbody>\n",
       "</table>\n"
      ],
      "text/latex": [
       "\\begin{tabular}{r|ll}\n",
       "  & 5 \\% & 95 \\%\\\\\n",
       "\\hline\n",
       "\t(Intercept) & 1.0930143 & 5.992700 \\\\\n",
       "\tX & 0.1670077 & 1.061564 \\\\\n",
       "\\end{tabular}\n"
      ],
      "text/markdown": [
       "\n",
       "| <!--/--> | 5 % | 95 % | \n",
       "|---|---|\n",
       "| (Intercept) | 1.0930143 | 5.992700  | \n",
       "| X | 0.1670077 | 1.061564  | \n",
       "\n",
       "\n"
      ],
      "text/plain": [
       "            5 %       95 %    \n",
       "(Intercept) 1.0930143 5.992700\n",
       "X           0.1670077 1.061564"
      ]
     },
     "metadata": {},
     "output_type": "display_data"
    }
   ],
   "source": [
    "# intervalli di confidenza dei coefficienti di regressione\n",
    "confint(regressione, level=0.9)"
   ]
  },
  {
   "cell_type": "markdown",
   "metadata": {},
   "source": [
    "![](images/03.png)\n",
    "![](images/04.png)"
   ]
  },
  {
   "cell_type": "code",
   "execution_count": 9,
   "metadata": {},
   "outputs": [
    {
     "data": {
      "text/plain": [
       "\n",
       "Call:\n",
       "lm(formula = Y ~ X)\n",
       "\n",
       "Residuals:\n",
       "         1          2          3          4          5 \n",
       " 3.000e-01  6.523e-16  3.857e-01  1.543e+00 -2.229e+00 \n",
       "\n",
       "Coefficients:\n",
       "            Estimate Std. Error t value Pr(>|t|)  \n",
       "(Intercept)   3.5429     1.0410   3.403   0.0424 *\n",
       "X             0.6143     0.1901   3.232   0.0481 *\n",
       "---\n",
       "Signif. codes:  0 ‘***’ 0.001 ‘**’ 0.01 ‘*’ 0.05 ‘.’ 0.1 ‘ ’ 1\n",
       "\n",
       "Residual standard error: 1.59 on 3 degrees of freedom\n",
       "Multiple R-squared:  0.7769,\tAdjusted R-squared:  0.7025 \n",
       "F-statistic: 10.45 on 1 and 3 DF,  p-value: 0.04814\n"
      ]
     },
     "metadata": {},
     "output_type": "display_data"
    },
    {
     "data": {
      "text/html": [
       "<table>\n",
       "<thead><tr><th></th><th scope=col>Estimate</th><th scope=col>Std. Error</th><th scope=col>t value</th><th scope=col>Pr(&gt;|t|)</th></tr></thead>\n",
       "<tbody>\n",
       "\t<tr><th scope=row>(Intercept)</th><td>3.5428571 </td><td>1.0409964 </td><td>3.403333  </td><td>0.04235747</td></tr>\n",
       "\t<tr><th scope=row>X</th><td>0.6142857 </td><td>0.1900591 </td><td>3.232078  </td><td>0.04813973</td></tr>\n",
       "</tbody>\n",
       "</table>\n"
      ],
      "text/latex": [
       "\\begin{tabular}{r|llll}\n",
       "  & Estimate & Std. Error & t value & Pr(>\\textbar{}t\\textbar{})\\\\\n",
       "\\hline\n",
       "\t(Intercept) & 3.5428571  & 1.0409964  & 3.403333   & 0.04235747\\\\\n",
       "\tX & 0.6142857  & 0.1900591  & 3.232078   & 0.04813973\\\\\n",
       "\\end{tabular}\n"
      ],
      "text/markdown": [
       "\n",
       "| <!--/--> | Estimate | Std. Error | t value | Pr(>|t|) | \n",
       "|---|---|\n",
       "| (Intercept) | 3.5428571  | 1.0409964  | 3.403333   | 0.04235747 | \n",
       "| X | 0.6142857  | 0.1900591  | 3.232078   | 0.04813973 | \n",
       "\n",
       "\n"
      ],
      "text/plain": [
       "            Estimate  Std. Error t value  Pr(>|t|)  \n",
       "(Intercept) 3.5428571 1.0409964  3.403333 0.04235747\n",
       "X           0.6142857 0.1900591  3.232078 0.04813973"
      ]
     },
     "metadata": {},
     "output_type": "display_data"
    }
   ],
   "source": [
    "# ipotesi sul valore di a1 o a0\n",
    "\n",
    "s = summary(regressione) # otteni informazioni sulla regressione\n",
    "s\n",
    "s$coefficients\n",
    "\n",
    "# devo guardare l'ultima colonna. \n",
    "# indica il pvalue, che deve essere maggiore di alfa per accettare l'ipotesi\n",
    "# ad esempio leggo la prima riga visto se devo vedere se l'intercetta e' != da 0 "
   ]
  },
  {
   "cell_type": "code",
   "execution_count": 29,
   "metadata": {
    "collapsed": true
   },
   "outputs": [],
   "source": []
  }
 ],
 "metadata": {
  "kernelspec": {
   "display_name": "R",
   "language": "R",
   "name": "ir"
  },
  "language_info": {
   "codemirror_mode": "r",
   "file_extension": ".r",
   "mimetype": "text/x-r-source",
   "name": "R",
   "pygments_lexer": "r",
   "version": "3.4.0"
  }
 },
 "nbformat": 4,
 "nbformat_minor": 2
}
