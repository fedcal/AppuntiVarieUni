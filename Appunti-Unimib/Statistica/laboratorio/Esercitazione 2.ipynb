{
 "cells": [
  {
   "cell_type": "code",
   "execution_count": 3,
   "metadata": {
    "collapsed": false,
    "deletable": true,
    "editable": true
   },
   "outputs": [],
   "source": [
    "# carica il package delle probabilità\n",
    "library(prob)"
   ]
  },
  {
   "cell_type": "markdown",
   "metadata": {
    "deletable": true,
    "editable": true
   },
   "source": [
    "# Monete"
   ]
  },
  {
   "cell_type": "code",
   "execution_count": 11,
   "metadata": {
    "collapsed": false,
    "deletable": true,
    "editable": true
   },
   "outputs": [
    {
     "data": {
      "text/html": [
       "<table>\n",
       "<thead><tr><th scope=col>toss1</th><th scope=col>toss2</th><th scope=col>toss3</th></tr></thead>\n",
       "<tbody>\n",
       "\t<tr><td>H</td><td>H</td><td>H</td></tr>\n",
       "\t<tr><td>T</td><td>H</td><td>H</td></tr>\n",
       "\t<tr><td>H</td><td>T</td><td>H</td></tr>\n",
       "\t<tr><td>T</td><td>T</td><td>H</td></tr>\n",
       "\t<tr><td>H</td><td>H</td><td>T</td></tr>\n",
       "\t<tr><td>T</td><td>H</td><td>T</td></tr>\n",
       "\t<tr><td>H</td><td>T</td><td>T</td></tr>\n",
       "\t<tr><td>T</td><td>T</td><td>T</td></tr>\n",
       "</tbody>\n",
       "</table>\n"
      ],
      "text/latex": [
       "\\begin{tabular}{r|lll}\n",
       " toss1 & toss2 & toss3\\\\\n",
       "\\hline\n",
       "\t H & H & H\\\\\n",
       "\t T & H & H\\\\\n",
       "\t H & T & H\\\\\n",
       "\t T & T & H\\\\\n",
       "\t H & H & T\\\\\n",
       "\t T & H & T\\\\\n",
       "\t H & T & T\\\\\n",
       "\t T & T & T\\\\\n",
       "\\end{tabular}\n"
      ],
      "text/markdown": [
       "\n",
       "toss1 | toss2 | toss3 | \n",
       "|---|---|---|---|---|---|---|---|\n",
       "| H | H | H | \n",
       "| T | H | H | \n",
       "| H | T | H | \n",
       "| T | T | H | \n",
       "| H | H | T | \n",
       "| T | H | T | \n",
       "| H | T | T | \n",
       "| T | T | T | \n",
       "\n",
       "\n"
      ],
      "text/plain": [
       "  toss1 toss2 toss3\n",
       "1 H     H     H    \n",
       "2 T     H     H    \n",
       "3 H     T     H    \n",
       "4 T     T     H    \n",
       "5 H     H     T    \n",
       "6 T     H     T    \n",
       "7 H     T     T    \n",
       "8 T     T     T    "
      ]
     },
     "metadata": {},
     "output_type": "display_data"
    }
   ],
   "source": [
    "# spazio campione  del lancio di 3 monete bilanciate\n",
    "tosscoin(3)"
   ]
  },
  {
   "cell_type": "code",
   "execution_count": 112,
   "metadata": {
    "collapsed": false,
    "deletable": true,
    "editable": true
   },
   "outputs": [
    {
     "data": {
      "text/html": [
       "<table>\n",
       "<thead><tr><th scope=col>toss1</th><th scope=col>toss2</th><th scope=col>probs</th></tr></thead>\n",
       "<tbody>\n",
       "\t<tr><td>H   </td><td>H   </td><td>0.25</td></tr>\n",
       "\t<tr><td>T   </td><td>H   </td><td>0.25</td></tr>\n",
       "\t<tr><td>H   </td><td>T   </td><td>0.25</td></tr>\n",
       "\t<tr><td>T   </td><td>T   </td><td>0.25</td></tr>\n",
       "</tbody>\n",
       "</table>\n"
      ],
      "text/latex": [
       "\\begin{tabular}{r|lll}\n",
       " toss1 & toss2 & probs\\\\\n",
       "\\hline\n",
       "\t H    & H    & 0.25\\\\\n",
       "\t T    & H    & 0.25\\\\\n",
       "\t H    & T    & 0.25\\\\\n",
       "\t T    & T    & 0.25\\\\\n",
       "\\end{tabular}\n"
      ],
      "text/markdown": [
       "\n",
       "toss1 | toss2 | probs | \n",
       "|---|---|---|---|\n",
       "| H    | H    | 0.25 | \n",
       "| T    | H    | 0.25 | \n",
       "| H    | T    | 0.25 | \n",
       "| T    | T    | 0.25 | \n",
       "\n",
       "\n"
      ],
      "text/plain": [
       "  toss1 toss2 probs\n",
       "1 H     H     0.25 \n",
       "2 T     H     0.25 \n",
       "3 H     T     0.25 \n",
       "4 T     T     0.25 "
      ]
     },
     "metadata": {},
     "output_type": "display_data"
    }
   ],
   "source": [
    "tosscoin(2, makespace=TRUE)"
   ]
  },
  {
   "cell_type": "code",
   "execution_count": 119,
   "metadata": {
    "collapsed": false,
    "deletable": true,
    "editable": true
   },
   "outputs": [
    {
     "data": {
      "text/html": [
       "<table>\n",
       "<thead><tr><th scope=col>toss1</th><th scope=col>probs</th></tr></thead>\n",
       "<tbody>\n",
       "\t<tr><td>H  </td><td>0.3</td></tr>\n",
       "\t<tr><td>T  </td><td>0.7</td></tr>\n",
       "</tbody>\n",
       "</table>\n"
      ],
      "text/latex": [
       "\\begin{tabular}{r|ll}\n",
       " toss1 & probs\\\\\n",
       "\\hline\n",
       "\t H   & 0.3\\\\\n",
       "\t T   & 0.7\\\\\n",
       "\\end{tabular}\n"
      ],
      "text/markdown": [
       "\n",
       "toss1 | probs | \n",
       "|---|---|\n",
       "| H   | 0.3 | \n",
       "| T   | 0.7 | \n",
       "\n",
       "\n"
      ],
      "text/plain": [
       "  toss1 probs\n",
       "1 H     0.3  \n",
       "2 T     0.7  "
      ]
     },
     "metadata": {},
     "output_type": "display_data"
    },
    {
     "data": {
      "text/html": [
       "<table>\n",
       "<thead><tr><th scope=col>X1</th><th scope=col>probs</th></tr></thead>\n",
       "<tbody>\n",
       "\t<tr><td>H  </td><td>0.3</td></tr>\n",
       "\t<tr><td>T  </td><td>0.7</td></tr>\n",
       "</tbody>\n",
       "</table>\n"
      ],
      "text/latex": [
       "\\begin{tabular}{r|ll}\n",
       " X1 & probs\\\\\n",
       "\\hline\n",
       "\t H   & 0.3\\\\\n",
       "\t T   & 0.7\\\\\n",
       "\\end{tabular}\n"
      ],
      "text/markdown": [
       "\n",
       "X1 | probs | \n",
       "|---|---|\n",
       "| H   | 0.3 | \n",
       "| T   | 0.7 | \n",
       "\n",
       "\n"
      ],
      "text/plain": [
       "  X1 probs\n",
       "1 H  0.3  \n",
       "2 T  0.7  "
      ]
     },
     "metadata": {},
     "output_type": "display_data"
    }
   ],
   "source": [
    "probspace(tosscoin(1), probs=c(0.3, 0.7))\n",
    "iidspace(c(\"H\",\"T\"), ntrials=1, probs=c(0.3, 0.7))"
   ]
  },
  {
   "cell_type": "markdown",
   "metadata": {
    "deletable": true,
    "editable": true
   },
   "source": [
    "# Dadi"
   ]
  },
  {
   "cell_type": "code",
   "execution_count": 16,
   "metadata": {
    "collapsed": false,
    "deletable": true,
    "editable": true,
    "scrolled": true
   },
   "outputs": [
    {
     "data": {
      "text/html": [
       "<table>\n",
       "<thead><tr><th scope=col>X1</th><th scope=col>X2</th></tr></thead>\n",
       "<tbody>\n",
       "\t<tr><td>1</td><td>1</td></tr>\n",
       "\t<tr><td>2</td><td>1</td></tr>\n",
       "\t<tr><td>3</td><td>1</td></tr>\n",
       "\t<tr><td>1</td><td>2</td></tr>\n",
       "\t<tr><td>2</td><td>2</td></tr>\n",
       "\t<tr><td>3</td><td>2</td></tr>\n",
       "\t<tr><td>1</td><td>3</td></tr>\n",
       "\t<tr><td>2</td><td>3</td></tr>\n",
       "\t<tr><td>3</td><td>3</td></tr>\n",
       "</tbody>\n",
       "</table>\n"
      ],
      "text/latex": [
       "\\begin{tabular}{r|ll}\n",
       " X1 & X2\\\\\n",
       "\\hline\n",
       "\t 1 & 1\\\\\n",
       "\t 2 & 1\\\\\n",
       "\t 3 & 1\\\\\n",
       "\t 1 & 2\\\\\n",
       "\t 2 & 2\\\\\n",
       "\t 3 & 2\\\\\n",
       "\t 1 & 3\\\\\n",
       "\t 2 & 3\\\\\n",
       "\t 3 & 3\\\\\n",
       "\\end{tabular}\n"
      ],
      "text/markdown": [
       "\n",
       "X1 | X2 | \n",
       "|---|---|---|---|---|---|---|---|---|\n",
       "| 1 | 1 | \n",
       "| 2 | 1 | \n",
       "| 3 | 1 | \n",
       "| 1 | 2 | \n",
       "| 2 | 2 | \n",
       "| 3 | 2 | \n",
       "| 1 | 3 | \n",
       "| 2 | 3 | \n",
       "| 3 | 3 | \n",
       "\n",
       "\n"
      ],
      "text/plain": [
       "  X1 X2\n",
       "1 1  1 \n",
       "2 2  1 \n",
       "3 3  1 \n",
       "4 1  2 \n",
       "5 2  2 \n",
       "6 3  2 \n",
       "7 1  3 \n",
       "8 2  3 \n",
       "9 3  3 "
      ]
     },
     "metadata": {},
     "output_type": "display_data"
    }
   ],
   "source": [
    "rolldie(2, 3) # 2 dadi a 3 facce"
   ]
  },
  {
   "cell_type": "code",
   "execution_count": 97,
   "metadata": {
    "collapsed": false,
    "deletable": true,
    "editable": true
   },
   "outputs": [
    {
     "data": {
      "text/html": [
       "<table>\n",
       "<thead><tr><th></th><th scope=col>X1</th><th scope=col>X2</th></tr></thead>\n",
       "<tbody>\n",
       "\t<tr><th scope=row>30</th><td>6</td><td>5</td></tr>\n",
       "\t<tr><th scope=row>35</th><td>5</td><td>6</td></tr>\n",
       "\t<tr><th scope=row>36</th><td>6</td><td>6</td></tr>\n",
       "</tbody>\n",
       "</table>\n"
      ],
      "text/latex": [
       "\\begin{tabular}{r|ll}\n",
       "  & X1 & X2\\\\\n",
       "\\hline\n",
       "\t30 & 6 & 5\\\\\n",
       "\t35 & 5 & 6\\\\\n",
       "\t36 & 6 & 6\\\\\n",
       "\\end{tabular}\n"
      ],
      "text/markdown": [
       "\n",
       "| <!--/--> | X1 | X2 | \n",
       "|---|---|---|\n",
       "| 30 | 6 | 5 | \n",
       "| 35 | 5 | 6 | \n",
       "| 36 | 6 | 6 | \n",
       "\n",
       "\n"
      ],
      "text/plain": [
       "   X1 X2\n",
       "30 6  5 \n",
       "35 5  6 \n",
       "36 6  6 "
      ]
     },
     "metadata": {},
     "output_type": "display_data"
    },
    {
     "data": {
      "text/html": [
       "<table>\n",
       "<thead><tr><th></th><th scope=col>X1</th><th scope=col>X2</th></tr></thead>\n",
       "<tbody>\n",
       "\t<tr><th scope=row>2</th><td>2</td><td>1</td></tr>\n",
       "\t<tr><th scope=row>3</th><td>3</td><td>1</td></tr>\n",
       "\t<tr><th scope=row>4</th><td>4</td><td>1</td></tr>\n",
       "\t<tr><th scope=row>5</th><td>5</td><td>1</td></tr>\n",
       "\t<tr><th scope=row>6</th><td>6</td><td>1</td></tr>\n",
       "\t<tr><th scope=row>9</th><td>3</td><td>2</td></tr>\n",
       "\t<tr><th scope=row>10</th><td>4</td><td>2</td></tr>\n",
       "\t<tr><th scope=row>11</th><td>5</td><td>2</td></tr>\n",
       "\t<tr><th scope=row>12</th><td>6</td><td>2</td></tr>\n",
       "\t<tr><th scope=row>16</th><td>4</td><td>3</td></tr>\n",
       "\t<tr><th scope=row>17</th><td>5</td><td>3</td></tr>\n",
       "\t<tr><th scope=row>18</th><td>6</td><td>3</td></tr>\n",
       "\t<tr><th scope=row>23</th><td>5</td><td>4</td></tr>\n",
       "\t<tr><th scope=row>24</th><td>6</td><td>4</td></tr>\n",
       "\t<tr><th scope=row>30</th><td>6</td><td>5</td></tr>\n",
       "</tbody>\n",
       "</table>\n"
      ],
      "text/latex": [
       "\\begin{tabular}{r|ll}\n",
       "  & X1 & X2\\\\\n",
       "\\hline\n",
       "\t2 & 2 & 1\\\\\n",
       "\t3 & 3 & 1\\\\\n",
       "\t4 & 4 & 1\\\\\n",
       "\t5 & 5 & 1\\\\\n",
       "\t6 & 6 & 1\\\\\n",
       "\t9 & 3 & 2\\\\\n",
       "\t10 & 4 & 2\\\\\n",
       "\t11 & 5 & 2\\\\\n",
       "\t12 & 6 & 2\\\\\n",
       "\t16 & 4 & 3\\\\\n",
       "\t17 & 5 & 3\\\\\n",
       "\t18 & 6 & 3\\\\\n",
       "\t23 & 5 & 4\\\\\n",
       "\t24 & 6 & 4\\\\\n",
       "\t30 & 6 & 5\\\\\n",
       "\\end{tabular}\n"
      ],
      "text/markdown": [
       "\n",
       "| <!--/--> | X1 | X2 | \n",
       "|---|---|---|---|---|---|---|---|---|---|---|---|---|---|---|\n",
       "| 2 | 2 | 1 | \n",
       "| 3 | 3 | 1 | \n",
       "| 4 | 4 | 1 | \n",
       "| 5 | 5 | 1 | \n",
       "| 6 | 6 | 1 | \n",
       "| 9 | 3 | 2 | \n",
       "| 10 | 4 | 2 | \n",
       "| 11 | 5 | 2 | \n",
       "| 12 | 6 | 2 | \n",
       "| 16 | 4 | 3 | \n",
       "| 17 | 5 | 3 | \n",
       "| 18 | 6 | 3 | \n",
       "| 23 | 5 | 4 | \n",
       "| 24 | 6 | 4 | \n",
       "| 30 | 6 | 5 | \n",
       "\n",
       "\n"
      ],
      "text/plain": [
       "   X1 X2\n",
       "2  2  1 \n",
       "3  3  1 \n",
       "4  4  1 \n",
       "5  5  1 \n",
       "6  6  1 \n",
       "9  3  2 \n",
       "10 4  2 \n",
       "11 5  2 \n",
       "12 6  2 \n",
       "16 4  3 \n",
       "17 5  3 \n",
       "18 6  3 \n",
       "23 5  4 \n",
       "24 6  4 \n",
       "30 6  5 "
      ]
     },
     "metadata": {},
     "output_type": "display_data"
    }
   ],
   "source": [
    "# somma delle facce dei 2 dadi maggiore di 10\n",
    "subset(rolldie(2), X1+X2>10)\n",
    "subset(rolldie(2), X1>X2)"
   ]
  },
  {
   "cell_type": "code",
   "execution_count": 116,
   "metadata": {
    "collapsed": false,
    "deletable": true,
    "editable": true
   },
   "outputs": [
    {
     "data": {
      "text/html": [
       "<table>\n",
       "<thead><tr><th scope=col>X1</th><th scope=col>probs</th></tr></thead>\n",
       "<tbody>\n",
       "\t<tr><td>1        </td><td>0.1666667</td></tr>\n",
       "\t<tr><td>2        </td><td>0.1666667</td></tr>\n",
       "\t<tr><td>3        </td><td>0.1666667</td></tr>\n",
       "\t<tr><td>4        </td><td>0.1666667</td></tr>\n",
       "\t<tr><td>5        </td><td>0.1666667</td></tr>\n",
       "\t<tr><td>6        </td><td>0.1666667</td></tr>\n",
       "</tbody>\n",
       "</table>\n"
      ],
      "text/latex": [
       "\\begin{tabular}{r|ll}\n",
       " X1 & probs\\\\\n",
       "\\hline\n",
       "\t 1         & 0.1666667\\\\\n",
       "\t 2         & 0.1666667\\\\\n",
       "\t 3         & 0.1666667\\\\\n",
       "\t 4         & 0.1666667\\\\\n",
       "\t 5         & 0.1666667\\\\\n",
       "\t 6         & 0.1666667\\\\\n",
       "\\end{tabular}\n"
      ],
      "text/markdown": [
       "\n",
       "X1 | probs | \n",
       "|---|---|---|---|---|---|\n",
       "| 1         | 0.1666667 | \n",
       "| 2         | 0.1666667 | \n",
       "| 3         | 0.1666667 | \n",
       "| 4         | 0.1666667 | \n",
       "| 5         | 0.1666667 | \n",
       "| 6         | 0.1666667 | \n",
       "\n",
       "\n"
      ],
      "text/plain": [
       "  X1 probs    \n",
       "1 1  0.1666667\n",
       "2 2  0.1666667\n",
       "3 3  0.1666667\n",
       "4 4  0.1666667\n",
       "5 5  0.1666667\n",
       "6 6  0.1666667"
      ]
     },
     "metadata": {},
     "output_type": "display_data"
    }
   ],
   "source": [
    "risultati = rolldie(1) # lanciamo un dado\n",
    "p = rep(1/6, times=6)\n",
    "probspace(risultati, probs=p)\n",
    "# equivalente a rolldie(1, markspace=TRUE)"
   ]
  },
  {
   "cell_type": "markdown",
   "metadata": {
    "deletable": true,
    "editable": true
   },
   "source": [
    "# Carte"
   ]
  },
  {
   "cell_type": "code",
   "execution_count": 60,
   "metadata": {
    "collapsed": false,
    "deletable": true,
    "editable": true
   },
   "outputs": [
    {
     "data": {
      "text/html": [
       "<table>\n",
       "<thead><tr><th scope=col>rank</th><th scope=col>suit</th></tr></thead>\n",
       "<tbody>\n",
       "\t<tr><td>2   </td><td>Club</td></tr>\n",
       "\t<tr><td>3   </td><td>Club</td></tr>\n",
       "\t<tr><td>4   </td><td>Club</td></tr>\n",
       "\t<tr><td>5   </td><td>Club</td></tr>\n",
       "\t<tr><td>6   </td><td>Club</td></tr>\n",
       "\t<tr><td>7   </td><td>Club</td></tr>\n",
       "</tbody>\n",
       "</table>\n"
      ],
      "text/latex": [
       "\\begin{tabular}{r|ll}\n",
       " rank & suit\\\\\n",
       "\\hline\n",
       "\t 2    & Club\\\\\n",
       "\t 3    & Club\\\\\n",
       "\t 4    & Club\\\\\n",
       "\t 5    & Club\\\\\n",
       "\t 6    & Club\\\\\n",
       "\t 7    & Club\\\\\n",
       "\\end{tabular}\n"
      ],
      "text/markdown": [
       "\n",
       "rank | suit | \n",
       "|---|---|---|---|---|---|\n",
       "| 2    | Club | \n",
       "| 3    | Club | \n",
       "| 4    | Club | \n",
       "| 5    | Club | \n",
       "| 6    | Club | \n",
       "| 7    | Club | \n",
       "\n",
       "\n"
      ],
      "text/plain": [
       "  rank suit\n",
       "1 2    Club\n",
       "2 3    Club\n",
       "3 4    Club\n",
       "4 5    Club\n",
       "5 6    Club\n",
       "6 7    Club"
      ]
     },
     "metadata": {},
     "output_type": "display_data"
    }
   ],
   "source": [
    "c = cards()\n",
    "head(c) # ottiene i primi elementi del mazzo"
   ]
  },
  {
   "cell_type": "code",
   "execution_count": 65,
   "metadata": {
    "collapsed": false,
    "deletable": true,
    "editable": true
   },
   "outputs": [
    {
     "data": {
      "text/html": [
       "<table>\n",
       "<thead><tr><th></th><th scope=col>rank</th><th scope=col>suit</th></tr></thead>\n",
       "<tbody>\n",
       "\t<tr><th scope=row>40</th><td>2    </td><td>Spade</td></tr>\n",
       "\t<tr><th scope=row>41</th><td>3    </td><td>Spade</td></tr>\n",
       "\t<tr><th scope=row>42</th><td>4    </td><td>Spade</td></tr>\n",
       "</tbody>\n",
       "</table>\n"
      ],
      "text/latex": [
       "\\begin{tabular}{r|ll}\n",
       "  & rank & suit\\\\\n",
       "\\hline\n",
       "\t40 & 2     & Spade\\\\\n",
       "\t41 & 3     & Spade\\\\\n",
       "\t42 & 4     & Spade\\\\\n",
       "\\end{tabular}\n"
      ],
      "text/markdown": [
       "\n",
       "| <!--/--> | rank | suit | \n",
       "|---|---|---|\n",
       "| 40 | 2     | Spade | \n",
       "| 41 | 3     | Spade | \n",
       "| 42 | 4     | Spade | \n",
       "\n",
       "\n"
      ],
      "text/plain": [
       "   rank suit \n",
       "40 2    Spade\n",
       "41 3    Spade\n",
       "42 4    Spade"
      ]
     },
     "metadata": {},
     "output_type": "display_data"
    }
   ],
   "source": [
    "subset(c, suit==\"Spade\")[1:3,]"
   ]
  },
  {
   "cell_type": "code",
   "execution_count": 73,
   "metadata": {
    "collapsed": false,
    "deletable": true,
    "editable": true
   },
   "outputs": [
    {
     "data": {
      "text/html": [
       "<table>\n",
       "<thead><tr><th></th><th scope=col>rank</th><th scope=col>suit</th></tr></thead>\n",
       "<tbody>\n",
       "\t<tr><th scope=row>4</th><td>5      </td><td>Club   </td></tr>\n",
       "\t<tr><th scope=row>5</th><td>6      </td><td>Club   </td></tr>\n",
       "\t<tr><th scope=row>17</th><td>5      </td><td>Diamond</td></tr>\n",
       "\t<tr><th scope=row>18</th><td>6      </td><td>Diamond</td></tr>\n",
       "\t<tr><th scope=row>30</th><td>5      </td><td>Heart  </td></tr>\n",
       "\t<tr><th scope=row>31</th><td>6      </td><td>Heart  </td></tr>\n",
       "\t<tr><th scope=row>43</th><td>5      </td><td>Spade  </td></tr>\n",
       "\t<tr><th scope=row>44</th><td>6      </td><td>Spade  </td></tr>\n",
       "</tbody>\n",
       "</table>\n"
      ],
      "text/latex": [
       "\\begin{tabular}{r|ll}\n",
       "  & rank & suit\\\\\n",
       "\\hline\n",
       "\t4 & 5       & Club   \\\\\n",
       "\t5 & 6       & Club   \\\\\n",
       "\t17 & 5       & Diamond\\\\\n",
       "\t18 & 6       & Diamond\\\\\n",
       "\t30 & 5       & Heart  \\\\\n",
       "\t31 & 6       & Heart  \\\\\n",
       "\t43 & 5       & Spade  \\\\\n",
       "\t44 & 6       & Spade  \\\\\n",
       "\\end{tabular}\n"
      ],
      "text/markdown": [
       "\n",
       "| <!--/--> | rank | suit | \n",
       "|---|---|---|---|---|---|---|---|\n",
       "| 4 | 5       | Club    | \n",
       "| 5 | 6       | Club    | \n",
       "| 17 | 5       | Diamond | \n",
       "| 18 | 6       | Diamond | \n",
       "| 30 | 5       | Heart   | \n",
       "| 31 | 6       | Heart   | \n",
       "| 43 | 5       | Spade   | \n",
       "| 44 | 6       | Spade   | \n",
       "\n",
       "\n"
      ],
      "text/plain": [
       "   rank suit   \n",
       "4  5    Club   \n",
       "5  6    Club   \n",
       "17 5    Diamond\n",
       "18 6    Diamond\n",
       "30 5    Heart  \n",
       "31 6    Heart  \n",
       "43 5    Spade  \n",
       "44 6    Spade  "
      ]
     },
     "metadata": {},
     "output_type": "display_data"
    }
   ],
   "source": [
    "subset(c, rank %in% 5:6)\n",
    "# uguale a fare subset(c, rank==6 | rank == 5)"
   ]
  },
  {
   "cell_type": "code",
   "execution_count": 132,
   "metadata": {
    "collapsed": false,
    "deletable": true,
    "editable": true
   },
   "outputs": [
    {
     "data": {
      "text/html": [
       "0.25"
      ],
      "text/latex": [
       "0.25"
      ],
      "text/markdown": [
       "0.25"
      ],
      "text/plain": [
       "[1] 0.25"
      ]
     },
     "metadata": {},
     "output_type": "display_data"
    },
    {
     "data": {
      "text/html": [
       "0.173076923076923"
      ],
      "text/latex": [
       "0.173076923076923"
      ],
      "text/markdown": [
       "0.173076923076923"
      ],
      "text/plain": [
       "[1] 0.1730769"
      ]
     },
     "metadata": {},
     "output_type": "display_data"
    }
   ],
   "source": [
    "spazioCampione = cards(makespace=TRUE) # ricordarsi questo!!\n",
    "cuori = subset(spazioCampione, suit==\"Heart\")\n",
    "Prob(cuori)\n",
    "\n",
    "# oppure\n",
    "\n",
    "Prob(spazioCampione, rank %in% 1:10 & suit==\"Spade\")"
   ]
  },
  {
   "cell_type": "markdown",
   "metadata": {
    "deletable": true,
    "editable": true
   },
   "source": [
    "# Urna"
   ]
  },
  {
   "cell_type": "code",
   "execution_count": 59,
   "metadata": {
    "collapsed": false,
    "deletable": true,
    "editable": true
   },
   "outputs": [
    {
     "data": {
      "text/html": [
       "2"
      ],
      "text/latex": [
       "2"
      ],
      "text/markdown": [
       "2"
      ],
      "text/plain": [
       "[1] 2"
      ]
     },
     "metadata": {},
     "output_type": "display_data"
    },
    {
     "data": {
      "text/html": [
       "<table>\n",
       "<thead><tr><th scope=col>X1</th><th scope=col>X2</th></tr></thead>\n",
       "<tbody>\n",
       "\t<tr><td>1</td><td>1</td></tr>\n",
       "\t<tr><td>2</td><td>1</td></tr>\n",
       "\t<tr><td>3</td><td>1</td></tr>\n",
       "</tbody>\n",
       "</table>\n"
      ],
      "text/latex": [
       "\\begin{tabular}{r|ll}\n",
       " X1 & X2\\\\\n",
       "\\hline\n",
       "\t 1 & 1\\\\\n",
       "\t 2 & 1\\\\\n",
       "\t 3 & 1\\\\\n",
       "\\end{tabular}\n"
      ],
      "text/markdown": [
       "\n",
       "X1 | X2 | \n",
       "|---|---|---|\n",
       "| 1 | 1 | \n",
       "| 2 | 1 | \n",
       "| 3 | 1 | \n",
       "\n",
       "\n"
      ],
      "text/plain": [
       "  X1 X2\n",
       "1 1  1 \n",
       "2 2  1 \n",
       "3 3  1 "
      ]
     },
     "metadata": {},
     "output_type": "display_data"
    },
    {
     "data": {
      "text/html": [
       "<ol class=list-inline>\n",
       "\t<li>2</li>\n",
       "\t<li>3</li>\n",
       "</ol>\n"
      ],
      "text/latex": [
       "\\begin{enumerate*}\n",
       "\\item 2\n",
       "\\item 3\n",
       "\\end{enumerate*}\n"
      ],
      "text/markdown": [
       "1. 2\n",
       "2. 3\n",
       "\n",
       "\n"
      ],
      "text/plain": [
       "[1] 2 3"
      ]
     },
     "metadata": {},
     "output_type": "display_data"
    }
   ],
   "source": [
    "estrazioni = urnsamples(1:3, size=2, replace=TRUE, ordered=TRUE)\n",
    "# palline da 1 a 3, ne prendo 2, con re-introduzione, conta l'ordine\n",
    "\n",
    "# estrazioni[1] # stampa prima colonna\n",
    "\n",
    "estrazioni[2, 1] # stampa l'elemento alla 2 riga 1 colonna\n",
    "estrazioni[1:3,] # stampa le righe da 1 a 3\n",
    "estrazioni[c(2,3),1] # stampa le righe 2 e 4, ma solo la 1 colonna"
   ]
  },
  {
   "cell_type": "markdown",
   "metadata": {
    "deletable": true,
    "editable": true
   },
   "source": [
    "# Altro"
   ]
  },
  {
   "cell_type": "code",
   "execution_count": 84,
   "metadata": {
    "collapsed": false,
    "deletable": true,
    "editable": true
   },
   "outputs": [
    {
     "data": {
      "text/html": [
       "TRUE"
      ],
      "text/latex": [
       "TRUE"
      ],
      "text/markdown": [
       "TRUE"
      ],
      "text/plain": [
       "[1] TRUE"
      ]
     },
     "metadata": {},
     "output_type": "display_data"
    }
   ],
   "source": [
    "# isin\n",
    "x = 1:20\n",
    "y = 1:10\n",
    "isin(x,y) # ci chiediamo se y sta in x"
   ]
  },
  {
   "cell_type": "code",
   "execution_count": 89,
   "metadata": {
    "collapsed": false,
    "deletable": true,
    "editable": true
   },
   "outputs": [
    {
     "data": {
      "text/html": [
       "TRUE"
      ],
      "text/latex": [
       "TRUE"
      ],
      "text/markdown": [
       "TRUE"
      ],
      "text/plain": [
       "[1] TRUE"
      ]
     },
     "metadata": {},
     "output_type": "display_data"
    }
   ],
   "source": [
    "x = 1:10\n",
    "y = 3:7\n",
    "all(y %in% x)"
   ]
  },
  {
   "cell_type": "code",
   "execution_count": 100,
   "metadata": {
    "collapsed": false,
    "deletable": true,
    "editable": true
   },
   "outputs": [
    {
     "data": {
      "text/html": [
       "<ol class=list-inline>\n",
       "\t<li>1</li>\n",
       "\t<li>2</li>\n",
       "\t<li>3</li>\n",
       "\t<li>4</li>\n",
       "\t<li>5</li>\n",
       "\t<li>6</li>\n",
       "\t<li>7</li>\n",
       "\t<li>8</li>\n",
       "\t<li>9</li>\n",
       "\t<li>10</li>\n",
       "\t<li>11</li>\n",
       "\t<li>12</li>\n",
       "\t<li>13</li>\n",
       "\t<li>14</li>\n",
       "\t<li>15</li>\n",
       "\t<li>16</li>\n",
       "\t<li>17</li>\n",
       "\t<li>18</li>\n",
       "</ol>\n"
      ],
      "text/latex": [
       "\\begin{enumerate*}\n",
       "\\item 1\n",
       "\\item 2\n",
       "\\item 3\n",
       "\\item 4\n",
       "\\item 5\n",
       "\\item 6\n",
       "\\item 7\n",
       "\\item 8\n",
       "\\item 9\n",
       "\\item 10\n",
       "\\item 11\n",
       "\\item 12\n",
       "\\item 13\n",
       "\\item 14\n",
       "\\item 15\n",
       "\\item 16\n",
       "\\item 17\n",
       "\\item 18\n",
       "\\end{enumerate*}\n"
      ],
      "text/markdown": [
       "1. 1\n",
       "2. 2\n",
       "3. 3\n",
       "4. 4\n",
       "5. 5\n",
       "6. 6\n",
       "7. 7\n",
       "8. 8\n",
       "9. 9\n",
       "10. 10\n",
       "11. 11\n",
       "12. 12\n",
       "13. 13\n",
       "14. 14\n",
       "15. 15\n",
       "16. 16\n",
       "17. 17\n",
       "18. 18\n",
       "\n",
       "\n"
      ],
      "text/plain": [
       " [1]  1  2  3  4  5  6  7  8  9 10 11 12 13 14 15 16 17 18"
      ]
     },
     "metadata": {},
     "output_type": "display_data"
    }
   ],
   "source": [
    "union(1:3, 1:18)"
   ]
  },
  {
   "cell_type": "code",
   "execution_count": 101,
   "metadata": {
    "collapsed": false,
    "deletable": true,
    "editable": true
   },
   "outputs": [
    {
     "data": {
      "text/html": [
       "<ol class=list-inline>\n",
       "\t<li>2</li>\n",
       "\t<li>3</li>\n",
       "</ol>\n"
      ],
      "text/latex": [
       "\\begin{enumerate*}\n",
       "\\item 2\n",
       "\\item 3\n",
       "\\end{enumerate*}\n"
      ],
      "text/markdown": [
       "1. 2\n",
       "2. 3\n",
       "\n",
       "\n"
      ],
      "text/plain": [
       "[1] 2 3"
      ]
     },
     "metadata": {},
     "output_type": "display_data"
    }
   ],
   "source": [
    "intersect(1:3, 2:5)"
   ]
  },
  {
   "cell_type": "code",
   "execution_count": 102,
   "metadata": {
    "collapsed": false,
    "deletable": true,
    "editable": true
   },
   "outputs": [
    {
     "data": {
      "text/html": [
       "<ol class=list-inline>\n",
       "\t<li>1</li>\n",
       "\t<li>2</li>\n",
       "\t<li>3</li>\n",
       "\t<li>4</li>\n",
       "\t<li>10</li>\n",
       "</ol>\n"
      ],
      "text/latex": [
       "\\begin{enumerate*}\n",
       "\\item 1\n",
       "\\item 2\n",
       "\\item 3\n",
       "\\item 4\n",
       "\\item 10\n",
       "\\end{enumerate*}\n"
      ],
      "text/markdown": [
       "1. 1\n",
       "2. 2\n",
       "3. 3\n",
       "4. 4\n",
       "5. 10\n",
       "\n",
       "\n"
      ],
      "text/plain": [
       "[1]  1  2  3  4 10"
      ]
     },
     "metadata": {},
     "output_type": "display_data"
    }
   ],
   "source": [
    "setdiff(1:10, 5:9)"
   ]
  },
  {
   "cell_type": "code",
   "execution_count": 108,
   "metadata": {
    "collapsed": false,
    "deletable": true,
    "editable": true
   },
   "outputs": [
    {
     "data": {
      "text/html": [
       "TRUE"
      ],
      "text/latex": [
       "TRUE"
      ],
      "text/markdown": [
       "TRUE"
      ],
      "text/plain": [
       "[1] TRUE"
      ]
     },
     "metadata": {},
     "output_type": "display_data"
    }
   ],
   "source": [
    "# 4 sta dentro l'insieme almeno 3 volte?\n",
    "isrep(c(4, 4, 4, 6), vals=4, nrep=3)"
   ]
  },
  {
   "cell_type": "code",
   "execution_count": 9,
   "metadata": {
    "collapsed": false,
    "deletable": true,
    "editable": true
   },
   "outputs": [
    {
     "data": {
      "text/html": [
       "TRUE"
      ],
      "text/latex": [
       "TRUE"
      ],
      "text/markdown": [
       "TRUE"
      ],
      "text/plain": [
       "[1] TRUE"
      ]
     },
     "metadata": {},
     "output_type": "display_data"
    }
   ],
   "source": [
    "# fattoriale / permutazioni\n",
    "factorial(5) == 1*2*3*4*5"
   ]
  },
  {
   "cell_type": "code",
   "execution_count": 12,
   "metadata": {
    "collapsed": false,
    "scrolled": true
   },
   "outputs": [
    {
     "data": {
      "text/html": [
       "TRUE"
      ],
      "text/latex": [
       "TRUE"
      ],
      "text/markdown": [
       "TRUE"
      ],
      "text/plain": [
       "[1] TRUE"
      ]
     },
     "metadata": {},
     "output_type": "display_data"
    }
   ],
   "source": [
    "# combinazione semplici\n",
    "# numero di combinazioni di 8 elementi presi a gruppi di 2\n",
    "choose(8, 2) == factorial(8)/(factorial(6)*(factorial(2)))"
   ]
  },
  {
   "cell_type": "markdown",
   "metadata": {},
   "source": [
    "# Esercizi"
   ]
  },
  {
   "cell_type": "code",
   "execution_count": 24,
   "metadata": {
    "collapsed": false
   },
   "outputs": [
    {
     "name": "stdout",
     "output_type": "stream",
     "text": [
      "   out probs\n",
      "1    1   0.1\n",
      "2    2   0.1\n",
      "3    3   0.1\n",
      "4    4   0.1\n",
      "5    5   0.1\n",
      "6    6   0.1\n",
      "7    7   0.1\n",
      "8    8   0.1\n",
      "9    9   0.1\n",
      "10  10   0.1\n"
     ]
    },
    {
     "data": {
      "text/html": [
       "0.1"
      ],
      "text/latex": [
       "0.1"
      ],
      "text/markdown": [
       "0.1"
      ],
      "text/plain": [
       "[1] 0.1"
      ]
     },
     "metadata": {},
     "output_type": "display_data"
    }
   ],
   "source": [
    "# esercizio 1\n",
    "nCarte = 10\n",
    "carte = urnsamples(1:nCarte, size=1) # ne prendo 1 da delle carte numerate da 1 a 10\n",
    "prob = rep(1/nCarte, times=nCarte) # probabilità di 1/nCarte di estrarre ogni carta\n",
    "spazioCampione = probspace(carte, probs=prob) # genero lo spazio campione, combino le possibili estrazioni con le loro probabilità\n",
    "print(spazioCampione)\n",
    "Prob(spazioCampione, out==10)"
   ]
  },
  {
   "cell_type": "code",
   "execution_count": 29,
   "metadata": {
    "collapsed": false
   },
   "outputs": [
    {
     "data": {
      "text/html": [
       "<ol class=list-inline>\n",
       "\t<li>'bianca'</li>\n",
       "\t<li>'bianca'</li>\n",
       "\t<li>'bianca'</li>\n",
       "\t<li>'bianca'</li>\n",
       "\t<li>'bianca'</li>\n",
       "\t<li>'bianca'</li>\n",
       "\t<li>'bianca'</li>\n",
       "\t<li>'nera'</li>\n",
       "\t<li>'nera'</li>\n",
       "\t<li>'nera'</li>\n",
       "\t<li>'nera'</li>\n",
       "\t<li>'nera'</li>\n",
       "</ol>\n"
      ],
      "text/latex": [
       "\\begin{enumerate*}\n",
       "\\item 'bianca'\n",
       "\\item 'bianca'\n",
       "\\item 'bianca'\n",
       "\\item 'bianca'\n",
       "\\item 'bianca'\n",
       "\\item 'bianca'\n",
       "\\item 'bianca'\n",
       "\\item 'nera'\n",
       "\\item 'nera'\n",
       "\\item 'nera'\n",
       "\\item 'nera'\n",
       "\\item 'nera'\n",
       "\\end{enumerate*}\n"
      ],
      "text/markdown": [
       "1. 'bianca'\n",
       "2. 'bianca'\n",
       "3. 'bianca'\n",
       "4. 'bianca'\n",
       "5. 'bianca'\n",
       "6. 'bianca'\n",
       "7. 'bianca'\n",
       "8. 'nera'\n",
       "9. 'nera'\n",
       "10. 'nera'\n",
       "11. 'nera'\n",
       "12. 'nera'\n",
       "\n",
       "\n"
      ],
      "text/plain": [
       " [1] \"bianca\" \"bianca\" \"bianca\" \"bianca\" \"bianca\" \"bianca\" \"bianca\" \"nera\"  \n",
       " [9] \"nera\"   \"nera\"   \"nera\"   \"nera\"  "
      ]
     },
     "metadata": {},
     "output_type": "display_data"
    },
    {
     "data": {
      "text/html": [
       "<table>\n",
       "<thead><tr><th scope=col>X1</th><th scope=col>X2</th><th scope=col>probs</th></tr></thead>\n",
       "<tbody>\n",
       "\t<tr><td>bianca    </td><td>bianca    </td><td>0.01515152</td></tr>\n",
       "\t<tr><td>bianca    </td><td>bianca    </td><td>0.01515152</td></tr>\n",
       "\t<tr><td>bianca    </td><td>bianca    </td><td>0.01515152</td></tr>\n",
       "\t<tr><td>bianca    </td><td>bianca    </td><td>0.01515152</td></tr>\n",
       "\t<tr><td>bianca    </td><td>bianca    </td><td>0.01515152</td></tr>\n",
       "\t<tr><td>bianca    </td><td>bianca    </td><td>0.01515152</td></tr>\n",
       "</tbody>\n",
       "</table>\n"
      ],
      "text/latex": [
       "\\begin{tabular}{r|lll}\n",
       " X1 & X2 & probs\\\\\n",
       "\\hline\n",
       "\t bianca     & bianca     & 0.01515152\\\\\n",
       "\t bianca     & bianca     & 0.01515152\\\\\n",
       "\t bianca     & bianca     & 0.01515152\\\\\n",
       "\t bianca     & bianca     & 0.01515152\\\\\n",
       "\t bianca     & bianca     & 0.01515152\\\\\n",
       "\t bianca     & bianca     & 0.01515152\\\\\n",
       "\\end{tabular}\n"
      ],
      "text/markdown": [
       "\n",
       "X1 | X2 | probs | \n",
       "|---|---|---|---|---|---|\n",
       "| bianca     | bianca     | 0.01515152 | \n",
       "| bianca     | bianca     | 0.01515152 | \n",
       "| bianca     | bianca     | 0.01515152 | \n",
       "| bianca     | bianca     | 0.01515152 | \n",
       "| bianca     | bianca     | 0.01515152 | \n",
       "| bianca     | bianca     | 0.01515152 | \n",
       "\n",
       "\n"
      ],
      "text/plain": [
       "  X1     X2     probs     \n",
       "1 bianca bianca 0.01515152\n",
       "2 bianca bianca 0.01515152\n",
       "3 bianca bianca 0.01515152\n",
       "4 bianca bianca 0.01515152\n",
       "5 bianca bianca 0.01515152\n",
       "6 bianca bianca 0.01515152"
      ]
     },
     "metadata": {},
     "output_type": "display_data"
    },
    {
     "data": {
      "text/html": [
       "0.318181818181818"
      ],
      "text/latex": [
       "0.318181818181818"
      ],
      "text/markdown": [
       "0.318181818181818"
      ],
      "text/plain": [
       "[1] 0.3181818"
      ]
     },
     "metadata": {},
     "output_type": "display_data"
    }
   ],
   "source": [
    "nBianche = 7\n",
    "nNere = 5\n",
    "palline = rep(c(\"bianca\",\"nera\"), times=c(nBianche,nNere))\n",
    "palline # stampiamo il risultato dell'operazione sopra\n",
    "urna = urnsamples(palline, size=2, replace=FALSE, ordered=FALSE) # tutte le possibili estrazioni\n",
    "spazioCampione = probspace(urna) # costruisce tabella con X1 | X2 | probs\n",
    "head(spazioCampione) # stampiamo le prime righe per far vedere come è fatto\n",
    "Prob(spazioCampione, X1 == \"bianca\" & X2 == \"bianca\") # equivalente a isrep(spazioCampione, \"bianca\", 2)"
   ]
  },
  {
   "cell_type": "code",
   "execution_count": 27,
   "metadata": {
    "collapsed": false
   },
   "outputs": [
    {
     "data": {
      "text/html": [
       "<ol class=list-inline>\n",
       "\t<li>'bianca'</li>\n",
       "\t<li>'bianca'</li>\n",
       "\t<li>'bianca'</li>\n",
       "\t<li>'nera'</li>\n",
       "\t<li>'nera'</li>\n",
       "</ol>\n"
      ],
      "text/latex": [
       "\\begin{enumerate*}\n",
       "\\item 'bianca'\n",
       "\\item 'bianca'\n",
       "\\item 'bianca'\n",
       "\\item 'nera'\n",
       "\\item 'nera'\n",
       "\\end{enumerate*}\n"
      ],
      "text/markdown": [
       "1. 'bianca'\n",
       "2. 'bianca'\n",
       "3. 'bianca'\n",
       "4. 'nera'\n",
       "5. 'nera'\n",
       "\n",
       "\n"
      ],
      "text/plain": [
       "[1] \"bianca\" \"bianca\" \"bianca\" \"nera\"   \"nera\"  "
      ]
     },
     "metadata": {},
     "output_type": "display_data"
    },
    {
     "data": {
      "text/html": [
       "0.784"
      ],
      "text/latex": [
       "0.784"
      ],
      "text/markdown": [
       "0.784"
      ],
      "text/plain": [
       "[1] 0.784"
      ]
     },
     "metadata": {},
     "output_type": "display_data"
    }
   ],
   "source": [
    "nBianche = 3\n",
    "nNere = 2\n",
    "reintroduzione = TRUE\n",
    "palline = rep(c(\"bianca\",\"nera\"), times=c(nBianche, nNere))\n",
    "palline\n",
    "urna = urnsamples(palline, size=3, replace=reintroduzione, ordered=TRUE)\n",
    "spazioCampione = probspace(urna)\n",
    "Prob(spazioCampione, X1==\"nera\" | X2==\"nera\" | X3==\"nera\")\n"
   ]
  },
  {
   "cell_type": "code",
   "execution_count": 7,
   "metadata": {
    "collapsed": false
   },
   "outputs": [
    {
     "data": {
      "text/html": [
       "0.0129411764705882"
      ],
      "text/latex": [
       "0.0129411764705882"
      ],
      "text/markdown": [
       "0.0129411764705882"
      ],
      "text/plain": [
       "[1] 0.01294118"
      ]
     },
     "metadata": {},
     "output_type": "display_data"
    }
   ],
   "source": [
    "nCarteDaPrendere = 3\n",
    "carte = urnsamples(cards(), size=nCarteDaPrendere, replace=FALSE, ordered=FALSE)\n",
    "spazioCampione = probspace(carte)\n",
    "Prob(spazioCampione, all(suit==\"Club\"))"
   ]
  },
  {
   "cell_type": "code",
   "execution_count": 11,
   "metadata": {
    "collapsed": false
   },
   "outputs": [
    {
     "data": {
      "text/html": [
       "0.2"
      ],
      "text/latex": [
       "0.2"
      ],
      "text/markdown": [
       "0.2"
      ],
      "text/plain": [
       "[1] 0.2"
      ]
     },
     "metadata": {},
     "output_type": "display_data"
    }
   ],
   "source": [
    "## calcolare la probabilità che lanciando due dadi esca la stessa faccia dato che la loro somma è maggiore o uguale a 8\n",
    "spazioCampione = rolldie(2, makespace=TRUE)\n",
    "Prob(spazioCampione, X1==X2, given=(X1+X2>=8))"
   ]
  },
  {
   "cell_type": "code",
   "execution_count": 15,
   "metadata": {
    "collapsed": false
   },
   "outputs": [
    {
     "data": {
      "text/html": [
       "0.166666666666667"
      ],
      "text/latex": [
       "0.166666666666667"
      ],
      "text/markdown": [
       "0.166666666666667"
      ],
      "text/plain": [
       "[1] 0.1666667"
      ]
     },
     "metadata": {},
     "output_type": "display_data"
    }
   ],
   "source": [
    "# supponiamo che 10 carte vengono numerate da 1 a 10\n",
    "# la carta estratta è maggiore di quattro, quanto è probabile che è 10?\n",
    "\n",
    "carte = urnsamples(1:10, size=1)\n",
    "# prob = rep(1/10, times=10) non necessario\n",
    "spazioCampione = probspace(carte)\n",
    "Prob(spazioCampione, out == 10, given = out > 4)"
   ]
  },
  {
   "cell_type": "code",
   "execution_count": 21,
   "metadata": {
    "collapsed": false
   },
   "outputs": [
    {
     "data": {
      "text/html": [
       "0.333333333333333"
      ],
      "text/latex": [
       "0.333333333333333"
      ],
      "text/markdown": [
       "0.333333333333333"
      ],
      "text/plain": [
       "[1] 0.3333333"
      ]
     },
     "metadata": {},
     "output_type": "display_data"
    }
   ],
   "source": [
    "# in una famiglia ci sono due figli, quale è la probabilità che siano entrambi maschi?\n",
    "figli = urnsamples(c(\"M\", \"F\"), size=2, replace=T, ordered=T)\n",
    "spazio = probspace(figli)\n",
    "Prob(spazio, X1==\"M\" & X2==\"M\", given=(X1==\"M\" | X2==\"M\"))"
   ]
  },
  {
   "cell_type": "code",
   "execution_count": 25,
   "metadata": {
    "collapsed": false
   },
   "outputs": [
    {
     "data": {
      "text/html": [
       "0.0833333333333333"
      ],
      "text/latex": [
       "0.0833333333333333"
      ],
      "text/markdown": [
       "0.0833333333333333"
      ],
      "text/plain": [
       "[1] 0.08333333"
      ]
     },
     "metadata": {},
     "output_type": "display_data"
    }
   ],
   "source": [
    "# probabilità di estrarre B R V \n",
    "urna = urnsamples(c(\"B\", \"B\", \"R\", \"V\"), 3, replace=F, ordered=T)\n",
    "spazio = probspace(urna)\n",
    "Prob(spazio, X1==\"B\" & X2==\"R\" & X3==\"V\")"
   ]
  },
  {
   "cell_type": "code",
   "execution_count": 31,
   "metadata": {
    "collapsed": false
   },
   "outputs": [
    {
     "data": {
      "text/html": [
       "0.26"
      ],
      "text/latex": [
       "0.26"
      ],
      "text/markdown": [
       "0.26"
      ],
      "text/plain": [
       "[1] 0.26"
      ]
     },
     "metadata": {},
     "output_type": "display_data"
    }
   ],
   "source": [
    "# il 30% è facile agli incidenti. se sei facile hai probabilità di 0.4 di fare un incidente. altrimenti di 0.2\n",
    "# preso un guidatore, quanto è probabile che abbia un incidente?\n",
    "\n",
    "perc = c(0.3, 0.7)\n",
    "pIncidente = c(0.4, 0.2)\n",
    "sum(perc*pIncidente)"
   ]
  },
  {
   "cell_type": "code",
   "execution_count": null,
   "metadata": {
    "collapsed": true
   },
   "outputs": [],
   "source": []
  }
 ],
 "metadata": {
  "kernelspec": {
   "display_name": "R",
   "language": "R",
   "name": "ir"
  },
  "language_info": {
   "codemirror_mode": "r",
   "file_extension": ".r",
   "mimetype": "text/x-r-source",
   "name": "R",
   "pygments_lexer": "r",
   "version": "3.3.3"
  }
 },
 "nbformat": 4,
 "nbformat_minor": 2
}
