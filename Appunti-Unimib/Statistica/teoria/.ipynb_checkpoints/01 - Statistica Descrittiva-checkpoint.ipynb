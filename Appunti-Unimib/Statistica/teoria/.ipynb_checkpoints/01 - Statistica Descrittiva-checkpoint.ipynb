{
 "cells": [
  {
   "cell_type": "markdown",
   "metadata": {},
   "source": [
    "# Statistica Descrittiva\n",
    "\n",
    "## Definizione\n",
    "\n",
    "La **statistica descrittiva** si occupa di utilizzare metodi e strumenti matematici al fine di organizzare dati raccolti per evidenziarne simmetrie, periodicità e leggi di vario genere. \n",
    "\n",
    "Grazie alla statistica descrittiva possiamo descrivere in maniera immediatamente comprensibile le informazioni intrinseche ai dati.\n",
    "\n",
    "## Concetti basilari\n",
    "\n",
    "* **Popolazione**: l'insieme di tutti gli elementi a cui si riferisce l'indagine statistica\n",
    "    * *Esempio*: l'insieme di tutti gli appartamenti\n",
    "* **Osservazioni**: un sottoinsieme della popolazione\n",
    "    * *Esempio*: 80 appartamenti a caso\n",
    "* **Carattere**: un dato particolare raccolto durante l'indagine statistica\n",
    "    * *Esempio*: il numero di abitanti dell'appartamento, la metratura\n",
    "\n",
    "### Tipologia di caratteri\n",
    "\n",
    "Distinguiamo i caratteri in due grandi categorie, quelli **qualitativi** e quelli **quantitativi**.\n",
    "\n",
    "* **Qualitativi**: i caratteri qualitativi rappresentano qualità o dati non numerici\n",
    "    * *Esempio*: il colore di un appartamento, il cognome del proprietario\n",
    "* **Quantitativi**: i caratteri quantitativi sono grandezze misurabili\n",
    "    * *Esempio*: il numero di stanze di un appartamento, la metratura\n",
    "\n",
    "A sua volta i caratteri quantitativi si dividono in **discreti** o **continui**.\n",
    "\n",
    "I caratteri *quantitativi discreti* possono assumere un numero finito di valori. *Esempio*: nel lancio di un dato il carattere `numero estratto` assume sempre un valore tra $\\{1, 2, 3, 4, 5, 6\\}$.\n",
    "\n",
    "I caratteri *quantitativi continui* hanno invece come dominio l'insieme dei numeri reali.\n",
    "\n",
    "-----\n",
    "\n",
    "## Frequenza\n",
    "\n",
    "Quando si lavora con caratteri discreti è utile raggruppare i dati considerando l'insieme di tutti i valori assumibili da un carattere (la **modalità del carattere**) ed associare ad ogni modalità il numero di volte che essa compare nel set di dati che si sta prendendo in considerazione.\n",
    "\n",
    "### Frequenza assoluta\n",
    "\n",
    "Si dice **frequenza assoluta** della modalità $s_j$ (con $j=\\{1,\\ldots,N\\}$ dove $N$ è il numero totale di modalità) la quantità $f_j$ data dal numero di elementi di $E=\\{x_1, x_2, \\ldots, x_n\\}$ che hanno valore $s_j$ "
   ]
  },
  {
   "cell_type": "code",
   "execution_count": 1,
   "metadata": {
    "collapsed": false
   },
   "outputs": [
    {
     "data": {
      "text/plain": [
       "temperature\n",
       "  33   34   35   36 37.5   38 \n",
       "   1    2    2    2    2    1 "
      ]
     },
     "metadata": {},
     "output_type": "display_data"
    }
   ],
   "source": [
    "temperature = sort(c(38, 36, 37.5, 35, 34, 34, 35, 36, 37.5, 33))\n",
    "table(temperature) # stampa la frequenza di ogni lettera "
   ]
  },
  {
   "cell_type": "markdown",
   "metadata": {},
   "source": [
    "Definiamo come **distribuzione di frequenza assoluta** la funzione che associa ad ogni modalità la corrispondente frequenza assoluta."
   ]
  },
  {
   "cell_type": "code",
   "execution_count": 2,
   "metadata": {
    "collapsed": false
   },
   "outputs": [
    {
     "data": {
      "text/html": [
       "<strong>36:</strong> 2"
      ],
      "text/latex": [
       "\\textbf{36:} 2"
      ],
      "text/markdown": [
       "**36:** 2"
      ],
      "text/plain": [
       "36 \n",
       " 2 "
      ]
     },
     "metadata": {},
     "output_type": "display_data"
    },
    {
     "data": {
      "text/html": [
       "<strong>33:</strong> 1"
      ],
      "text/latex": [
       "\\textbf{33:} 1"
      ],
      "text/markdown": [
       "**33:** 1"
      ],
      "text/plain": [
       "33 \n",
       " 1 "
      ]
     },
     "metadata": {},
     "output_type": "display_data"
    }
   ],
   "source": [
    "distribuzioneDiFrequenza = function(elenco, valore){\n",
    "    tabella = table(elenco)\n",
    "    tabella[names(tabella)==valore]\n",
    "}\n",
    "\n",
    "distribuzioneDiFrequenza(temperature, 36)\n",
    "distribuzioneDiFrequenza(temperature, 33)"
   ]
  },
  {
   "cell_type": "markdown",
   "metadata": {},
   "source": [
    "Si dice **frequenza cumulata assoluta** per la modalità $s_j$ la somma delle frequenze assolute di tutte le modalità $s_k \\in S : s_k \\leq s_j$, cioè: $$F_j = \\sum_{k:s_k\\leq s_k} f_k$$"
   ]
  },
  {
   "cell_type": "code",
   "execution_count": 3,
   "metadata": {
    "collapsed": false
   },
   "outputs": [
    {
     "data": {
      "text/html": [
       "<dl class=dl-horizontal>\n",
       "\t<dt>33</dt>\n",
       "\t\t<dd>1</dd>\n",
       "\t<dt>34</dt>\n",
       "\t\t<dd>3</dd>\n",
       "\t<dt>35</dt>\n",
       "\t\t<dd>5</dd>\n",
       "\t<dt>36</dt>\n",
       "\t\t<dd>7</dd>\n",
       "\t<dt>37.5</dt>\n",
       "\t\t<dd>9</dd>\n",
       "\t<dt>38</dt>\n",
       "\t\t<dd>10</dd>\n",
       "</dl>\n"
      ],
      "text/latex": [
       "\\begin{description*}\n",
       "\\item[33] 1\n",
       "\\item[34] 3\n",
       "\\item[35] 5\n",
       "\\item[36] 7\n",
       "\\item[37.5] 9\n",
       "\\item[38] 10\n",
       "\\end{description*}\n"
      ],
      "text/markdown": [
       "33\n",
       ":   134\n",
       ":   335\n",
       ":   536\n",
       ":   737.5\n",
       ":   938\n",
       ":   10\n",
       "\n"
      ],
      "text/plain": [
       "  33   34   35   36 37.5   38 \n",
       "   1    3    5    7    9   10 "
      ]
     },
     "metadata": {},
     "output_type": "display_data"
    }
   ],
   "source": [
    "cumsum(table(temperature))"
   ]
  },
  {
   "cell_type": "markdown",
   "metadata": {},
   "source": [
    "### Frequenza relativa\n",
    "La frequenza relativa di una modalità è il **rapporto** della **frequenza assoluta** di quella modalità rispetto al **numero totale di osservazioni**. Formalmente la indichiamo con: $$p_j = \\frac{f_j}{n}$$"
   ]
  },
  {
   "cell_type": "code",
   "execution_count": 4,
   "metadata": {
    "collapsed": false
   },
   "outputs": [
    {
     "data": {
      "text/plain": [
       "temperature\n",
       "  33   34   35   36 37.5   38 \n",
       " 0.1  0.2  0.2  0.2  0.2  0.1 "
      ]
     },
     "metadata": {},
     "output_type": "display_data"
    }
   ],
   "source": [
    "prop.table(table(temperature))"
   ]
  },
  {
   "cell_type": "markdown",
   "metadata": {},
   "source": [
    "Come per la frequenza assoluta anche per la frequenza relativa è possibile definire la **frequenza cumulata relativa**."
   ]
  },
  {
   "cell_type": "code",
   "execution_count": 5,
   "metadata": {
    "collapsed": false
   },
   "outputs": [
    {
     "data": {
      "text/html": [
       "<dl class=dl-horizontal>\n",
       "\t<dt>33</dt>\n",
       "\t\t<dd>0.1</dd>\n",
       "\t<dt>34</dt>\n",
       "\t\t<dd>0.3</dd>\n",
       "\t<dt>35</dt>\n",
       "\t\t<dd>0.5</dd>\n",
       "\t<dt>36</dt>\n",
       "\t\t<dd>0.7</dd>\n",
       "\t<dt>37.5</dt>\n",
       "\t\t<dd>0.9</dd>\n",
       "\t<dt>38</dt>\n",
       "\t\t<dd>1</dd>\n",
       "</dl>\n"
      ],
      "text/latex": [
       "\\begin{description*}\n",
       "\\item[33] 0.1\n",
       "\\item[34] 0.3\n",
       "\\item[35] 0.5\n",
       "\\item[36] 0.7\n",
       "\\item[37.5] 0.9\n",
       "\\item[38] 1\n",
       "\\end{description*}\n"
      ],
      "text/markdown": [
       "33\n",
       ":   0.134\n",
       ":   0.335\n",
       ":   0.536\n",
       ":   0.737.5\n",
       ":   0.938\n",
       ":   1\n",
       "\n"
      ],
      "text/plain": [
       "  33   34   35   36 37.5   38 \n",
       " 0.1  0.3  0.5  0.7  0.9  1.0 "
      ]
     },
     "metadata": {},
     "output_type": "display_data"
    }
   ],
   "source": [
    "cumsum(prop.table(table(temperature)))"
   ]
  },
  {
   "cell_type": "markdown",
   "metadata": {
    "collapsed": true
   },
   "source": [
    "## Classi e Partizioni\n",
    "Quando dobbiamo studiare caratteri **continui** è spesso conveniente ricondursi a raggruppamenti più semplici da trattare e di numerosità finita.\n",
    "\n",
    "In particolare suddividiamo il nostro insieme di osservazioni $S$ in **classi**, cioè in sottoinsieme che sono anche **partizioni** di $S$, cioè degli insiemi disgiunti (cioè senza elementi in comune) che uniti tra loro danno la totalià dell'iniseme S.\n",
    "\n",
    "La scelta delle classi è arbitraria, di buona norma le partizioni devono essere *significative* e *sufficientemente numerose* (nel senso che devono contenere un numero \"giusto\" di elementi)\n",
    "\n",
    "Ogni classe in particolare ha:\n",
    "\n",
    "* Estremo superiore ed inferiore\n",
    "    * E' necessario specificare se la classe è aperta o chiusa rispetto ad ogni estremo\n",
    "* Ampiezza\n",
    "* Valore centrale"
   ]
  },
  {
   "cell_type": "markdown",
   "metadata": {},
   "source": [
    "## Indici di tendenza centrale\n",
    "\n",
    "A volte è necessario mostrare le proprietà di una serie di osservazioni attraverso un solo valore significativo.\n",
    "\n",
    "### Media\n",
    "\n",
    "Il primo valore che andiamo a studiare è quello della **media**.\n",
    "\n",
    "Supponiamo $S=\\{x_1,\\ldots,x_n\\}$, indichiamo con media il valore $$\\bar{x}=\\frac{1}{n} \\sum^{n}_{i=1}x_i = \\frac{x_1+\\ldots+x_n}{n}$$\n",
    "\n",
    "In caso di dati quantitativi discreti avremo invece: $$\\bar{x} = \\frac{1}{n} \\sum^{N}_{j=1} s_j \\cdot f_j$$ Cioè dividiamo per il numero di elementi la sommatoria del valore di ogni modalità moltiplicato per la sua frequenza assoluta.\n",
    "\n",
    "In modo equivalente avremo: $$\\bar{x} = \\sum^{N}_{j=1} s_j \\cdot p_j$$ Cioè il valore medio è uguale al valroe di ogni carattere moltiplicato per la frequenza relativa di quel carattere."
   ]
  },
  {
   "cell_type": "code",
   "execution_count": 6,
   "metadata": {
    "collapsed": false,
    "scrolled": true
   },
   "outputs": [
    {
     "data": {
      "text/html": [
       "<ol class=list-inline>\n",
       "\t<li>33</li>\n",
       "\t<li>34</li>\n",
       "\t<li>34</li>\n",
       "\t<li>35</li>\n",
       "\t<li>35</li>\n",
       "\t<li>36</li>\n",
       "\t<li>36</li>\n",
       "\t<li>37.5</li>\n",
       "\t<li>37.5</li>\n",
       "\t<li>38</li>\n",
       "</ol>\n"
      ],
      "text/latex": [
       "\\begin{enumerate*}\n",
       "\\item 33\n",
       "\\item 34\n",
       "\\item 34\n",
       "\\item 35\n",
       "\\item 35\n",
       "\\item 36\n",
       "\\item 36\n",
       "\\item 37.5\n",
       "\\item 37.5\n",
       "\\item 38\n",
       "\\end{enumerate*}\n"
      ],
      "text/markdown": [
       "1. 33\n",
       "2. 34\n",
       "3. 34\n",
       "4. 35\n",
       "5. 35\n",
       "6. 36\n",
       "7. 36\n",
       "8. 37.5\n",
       "9. 37.5\n",
       "10. 38\n",
       "\n",
       "\n"
      ],
      "text/plain": [
       " [1] 33.0 34.0 34.0 35.0 35.0 36.0 36.0 37.5 37.5 38.0"
      ]
     },
     "metadata": {},
     "output_type": "display_data"
    },
    {
     "data": {
      "text/html": [
       "35.6"
      ],
      "text/latex": [
       "35.6"
      ],
      "text/markdown": [
       "35.6"
      ],
      "text/plain": [
       "[1] 35.6"
      ]
     },
     "metadata": {},
     "output_type": "display_data"
    },
    {
     "data": {
      "text/html": [
       "35.6"
      ],
      "text/latex": [
       "35.6"
      ],
      "text/markdown": [
       "35.6"
      ],
      "text/plain": [
       "[1] 35.6"
      ]
     },
     "metadata": {},
     "output_type": "display_data"
    }
   ],
   "source": [
    "temperature\n",
    "media = function(array){\n",
    "    sum(array)/length(array)\n",
    "}\n",
    "media(temperature)\n",
    "# che è uguale a \n",
    "mean(temperature)"
   ]
  },
  {
   "cell_type": "markdown",
   "metadata": {},
   "source": [
    "### Mediana\n",
    "La **mediana** è quel numero reala che precede tanti elementi della serie quanti ne segue. Per calcolare la mediana si ordina in ordine crescente la serie di dati e si guarda la lunghezza di questa serie di dati (che chiameremo $n$).\n",
    "\n",
    "La mediana è:\n",
    "\n",
    "* l'elemento di posto $\\frac{n+1}{2}$ se $n$ è dispari\n",
    "* la media tra l'elemento di posto $\\frac{n}{2}$ e quello di posto  $\\frac{n}{2}+1$ se $n$ è pari"
   ]
  },
  {
   "cell_type": "code",
   "execution_count": 12,
   "metadata": {
    "collapsed": false
   },
   "outputs": [
    {
     "data": {
      "text/html": [
       "<ol class=list-inline>\n",
       "\t<li>33</li>\n",
       "\t<li>34</li>\n",
       "\t<li>34</li>\n",
       "\t<li>35</li>\n",
       "\t<li>35</li>\n",
       "\t<li>36</li>\n",
       "\t<li>36</li>\n",
       "\t<li>37.5</li>\n",
       "\t<li>37.5</li>\n",
       "\t<li>38</li>\n",
       "</ol>\n"
      ],
      "text/latex": [
       "\\begin{enumerate*}\n",
       "\\item 33\n",
       "\\item 34\n",
       "\\item 34\n",
       "\\item 35\n",
       "\\item 35\n",
       "\\item 36\n",
       "\\item 36\n",
       "\\item 37.5\n",
       "\\item 37.5\n",
       "\\item 38\n",
       "\\end{enumerate*}\n"
      ],
      "text/markdown": [
       "1. 33\n",
       "2. 34\n",
       "3. 34\n",
       "4. 35\n",
       "5. 35\n",
       "6. 36\n",
       "7. 36\n",
       "8. 37.5\n",
       "9. 37.5\n",
       "10. 38\n",
       "\n",
       "\n"
      ],
      "text/plain": [
       " [1] 33.0 34.0 34.0 35.0 35.0 36.0 36.0 37.5 37.5 38.0"
      ]
     },
     "metadata": {},
     "output_type": "display_data"
    },
    {
     "data": {
      "text/html": [
       "35.5"
      ],
      "text/latex": [
       "35.5"
      ],
      "text/markdown": [
       "35.5"
      ],
      "text/plain": [
       "[1] 35.5"
      ]
     },
     "metadata": {},
     "output_type": "display_data"
    },
    {
     "data": {
      "text/html": [
       "35.5"
      ],
      "text/latex": [
       "35.5"
      ],
      "text/markdown": [
       "35.5"
      ],
      "text/plain": [
       "[1] 35.5"
      ]
     },
     "metadata": {},
     "output_type": "display_data"
    },
    {
     "data": {
      "text/html": [
       "<ol class=list-inline>\n",
       "\t<li>33</li>\n",
       "\t<li>34</li>\n",
       "\t<li>34</li>\n",
       "\t<li>35</li>\n",
       "\t<li>35</li>\n",
       "\t<li>35</li>\n",
       "\t<li>36</li>\n",
       "\t<li>36</li>\n",
       "\t<li>37.5</li>\n",
       "\t<li>37.5</li>\n",
       "\t<li>38</li>\n",
       "</ol>\n"
      ],
      "text/latex": [
       "\\begin{enumerate*}\n",
       "\\item 33\n",
       "\\item 34\n",
       "\\item 34\n",
       "\\item 35\n",
       "\\item 35\n",
       "\\item 35\n",
       "\\item 36\n",
       "\\item 36\n",
       "\\item 37.5\n",
       "\\item 37.5\n",
       "\\item 38\n",
       "\\end{enumerate*}\n"
      ],
      "text/markdown": [
       "1. 33\n",
       "2. 34\n",
       "3. 34\n",
       "4. 35\n",
       "5. 35\n",
       "6. 35\n",
       "7. 36\n",
       "8. 36\n",
       "9. 37.5\n",
       "10. 37.5\n",
       "11. 38\n",
       "\n",
       "\n"
      ],
      "text/plain": [
       " [1] 33.0 34.0 34.0 35.0 35.0 35.0 36.0 36.0 37.5 37.5 38.0"
      ]
     },
     "metadata": {},
     "output_type": "display_data"
    },
    {
     "data": {
      "text/html": [
       "35"
      ],
      "text/latex": [
       "35"
      ],
      "text/markdown": [
       "35"
      ],
      "text/plain": [
       "[1] 35"
      ]
     },
     "metadata": {},
     "output_type": "display_data"
    },
    {
     "data": {
      "text/html": [
       "35"
      ],
      "text/latex": [
       "35"
      ],
      "text/markdown": [
       "35"
      ],
      "text/plain": [
       "[1] 35"
      ]
     },
     "metadata": {},
     "output_type": "display_data"
    }
   ],
   "source": [
    "temperature\n",
    "mediana = function(lista){\n",
    "    lista = sort(lista) # ricordarsi di ordinare, sempre!\n",
    "    lunghezza = length(lista)\n",
    "    if (lunghezza %% 2 == 0){\n",
    "        (lista[lunghezza/2] + lista[lunghezza/2 + 1])/2\n",
    "    } else {\n",
    "        lista[lunghezza/2 + 1]\n",
    "    }\n",
    "}\n",
    "mediana(temperature)\n",
    "median(temperature)\n",
    "\n",
    "temperature2 = sort(c(temperature, 35)) # aggiungiamo un elemento giusto per testare\n",
    "temperature2\n",
    "\n",
    "mediana(temperature2)\n",
    "median(temperature2)"
   ]
  },
  {
   "cell_type": "markdown",
   "metadata": {},
   "source": [
    "### Moda\n",
    "La **moda** è il valore o la classe di valori a cui corrisponde la massima frequenza assoluta.\n",
    "\n",
    "La moda viene spesso usata con dati qualitativi dove non è possibile fare la media e la mediana.\n",
    "\n",
    "Visto che in una stessa serie di dati potrebbero esistere più elementi con la stessa frequenza la moda di quella serie potrebbe essere composta da più elementi (si parla quindi di distribuzione **multi-modale**)."
   ]
  },
  {
   "cell_type": "code",
   "execution_count": 21,
   "metadata": {
    "collapsed": false
   },
   "outputs": [
    {
     "data": {
      "text/html": [
       "<ol class=list-inline>\n",
       "\t<li>33</li>\n",
       "\t<li>34</li>\n",
       "\t<li>34</li>\n",
       "\t<li>35</li>\n",
       "\t<li>35</li>\n",
       "\t<li>36</li>\n",
       "\t<li>36</li>\n",
       "\t<li>37.5</li>\n",
       "\t<li>37.5</li>\n",
       "\t<li>38</li>\n",
       "</ol>\n"
      ],
      "text/latex": [
       "\\begin{enumerate*}\n",
       "\\item 33\n",
       "\\item 34\n",
       "\\item 34\n",
       "\\item 35\n",
       "\\item 35\n",
       "\\item 36\n",
       "\\item 36\n",
       "\\item 37.5\n",
       "\\item 37.5\n",
       "\\item 38\n",
       "\\end{enumerate*}\n"
      ],
      "text/markdown": [
       "1. 33\n",
       "2. 34\n",
       "3. 34\n",
       "4. 35\n",
       "5. 35\n",
       "6. 36\n",
       "7. 36\n",
       "8. 37.5\n",
       "9. 37.5\n",
       "10. 38\n",
       "\n",
       "\n"
      ],
      "text/plain": [
       " [1] 33.0 34.0 34.0 35.0 35.0 36.0 36.0 37.5 37.5 38.0"
      ]
     },
     "metadata": {},
     "output_type": "display_data"
    },
    {
     "data": {
      "text/html": [
       "<ol class=list-inline>\n",
       "\t<li>34</li>\n",
       "\t<li>35</li>\n",
       "\t<li>36</li>\n",
       "\t<li>37.5</li>\n",
       "</ol>\n"
      ],
      "text/latex": [
       "\\begin{enumerate*}\n",
       "\\item 34\n",
       "\\item 35\n",
       "\\item 36\n",
       "\\item 37.5\n",
       "\\end{enumerate*}\n"
      ],
      "text/markdown": [
       "1. 34\n",
       "2. 35\n",
       "3. 36\n",
       "4. 37.5\n",
       "\n",
       "\n"
      ],
      "text/plain": [
       "[1] 34.0 35.0 36.0 37.5"
      ]
     },
     "metadata": {},
     "output_type": "display_data"
    }
   ],
   "source": [
    "# R non ha una funzione per la moda, dobbiamo definirla noi\n",
    "# http://stackoverflow.com/questions/2547402/is-there-a-built-in-function-for-finding-the-mode\n",
    "Mode = function(x) {\n",
    "  ux = unique(x)\n",
    "  tab = tabulate(match(x, ux)); ux[tab == max(tab)]\n",
    "}\n",
    "temperature\n",
    "Mode(temperature)"
   ]
  },
  {
   "cell_type": "markdown",
   "metadata": {},
   "source": [
    "## Indici di variabilità\n",
    "Valori come quello della media e della mediana sono utili in molti casi, ma non sempre. Ad esempio consideriamo il seguente codice:"
   ]
  },
  {
   "cell_type": "code",
   "execution_count": 26,
   "metadata": {
    "collapsed": false
   },
   "outputs": [
    {
     "data": {
      "text/html": [
       "2"
      ],
      "text/latex": [
       "2"
      ],
      "text/markdown": [
       "2"
      ],
      "text/plain": [
       "[1] 2"
      ]
     },
     "metadata": {},
     "output_type": "display_data"
    },
    {
     "data": {
      "text/html": [
       "2"
      ],
      "text/latex": [
       "2"
      ],
      "text/markdown": [
       "2"
      ],
      "text/plain": [
       "[1] 2"
      ]
     },
     "metadata": {},
     "output_type": "display_data"
    },
    {
     "data": {
      "text/html": [
       "2"
      ],
      "text/latex": [
       "2"
      ],
      "text/markdown": [
       "2"
      ],
      "text/plain": [
       "[1] 2"
      ]
     },
     "metadata": {},
     "output_type": "display_data"
    },
    {
     "data": {
      "text/html": [
       "2"
      ],
      "text/latex": [
       "2"
      ],
      "text/markdown": [
       "2"
      ],
      "text/plain": [
       "[1] 2"
      ]
     },
     "metadata": {},
     "output_type": "display_data"
    }
   ],
   "source": [
    "e1 = c(0.5, 0.8, 2.0, 2.7, 4.0)\n",
    "e2 = c(1.4, 1.7, 2.0, 2.1, 2.8)\n",
    "\n",
    "mean(e1)\n",
    "median(e1)\n",
    "\n",
    "mean(e2)\n",
    "median(e2)"
   ]
  },
  {
   "cell_type": "markdown",
   "metadata": {},
   "source": [
    "Il valore di media e mediana per queste due serie di dati è uguale. Ma se le osserviamo le due serie di dati appaiono molto diverse. In particolare sono diverse per quanto riguarda l'omogeneità dei dati.\n",
    "\n",
    "### Varianza\n",
    "\n",
    "Introduciamo quindi il concetto di **varianza**, definita in questo modo: $$s^2 = \\frac{1}{n} \\sum^{n}_{i=1} (x_i - \\bar{x})^2 = \\\\ \\frac{1}{n} \\sum^{n}_{i=1} x_i^2 - \\bar{x}^2$$\n",
    "\n",
    "La varianza confronta ogni singola osservazione con la media e somma i quadrati delle differenze ottenute. La varianza è il **momento secondo rispetto alla media**.\n",
    "\n",
    "E' **necessario** introdurre l'elevamento al quadrato perchè, in caso contrario, il valore che si otterrebbe sarebbe sempre $0$.\n",
    "\n",
    "La varianza è tanto più grande quanto i singoli dati si scostano dalla media, cioè ci indica quanto tra loro sono disomogenei."
   ]
  },
  {
   "cell_type": "code",
   "execution_count": 41,
   "metadata": {
    "collapsed": false
   },
   "outputs": [
    {
     "data": {
      "text/html": [
       "2.045"
      ],
      "text/latex": [
       "2.045"
      ],
      "text/markdown": [
       "2.045"
      ],
      "text/plain": [
       "[1] 2.045"
      ]
     },
     "metadata": {},
     "output_type": "display_data"
    },
    {
     "data": {
      "text/html": [
       "0.275"
      ],
      "text/latex": [
       "0.275"
      ],
      "text/markdown": [
       "0.275"
      ],
      "text/plain": [
       "[1] 0.275"
      ]
     },
     "metadata": {},
     "output_type": "display_data"
    }
   ],
   "source": [
    "var(e1)\n",
    "var(e2)"
   ]
  },
  {
   "cell_type": "markdown",
   "metadata": {},
   "source": [
    "### Scarto quadratico medio\n",
    "\n",
    "Al posto della varianza è preferibile usare lo scarto quadratico medio, calcolabile come:\n",
    "$$s = \\sqrt{s^2}$$"
   ]
  },
  {
   "cell_type": "code",
   "execution_count": 42,
   "metadata": {
    "collapsed": false,
    "scrolled": true
   },
   "outputs": [
    {
     "data": {
      "text/html": [
       "1.43003496460751"
      ],
      "text/latex": [
       "1.43003496460751"
      ],
      "text/markdown": [
       "1.43003496460751"
      ],
      "text/plain": [
       "[1] 1.430035"
      ]
     },
     "metadata": {},
     "output_type": "display_data"
    },
    {
     "data": {
      "text/html": [
       "0.524404424085076"
      ],
      "text/latex": [
       "0.524404424085076"
      ],
      "text/markdown": [
       "0.524404424085076"
      ],
      "text/plain": [
       "[1] 0.5244044"
      ]
     },
     "metadata": {},
     "output_type": "display_data"
    }
   ],
   "source": [
    "sd(e1)\n",
    "sd(e2)"
   ]
  },
  {
   "cell_type": "markdown",
   "metadata": {},
   "source": [
    "## Caratteri bidimensionali\n",
    "\n",
    "Delle volte è utile studiare fenomeni che coinvolgono due o più caratteri che non possono essere considerati singolarmente, o che comunque hanno più significato se studiati insieme. Ad esempio i caratteri *Euro al $m^2$* e *superficie* sono tra in stretta relazone, quindi conviene studiarli insieme.\n",
    "\n",
    "Per semplicità consideriamo i dati come coppie di valori. Avremmo quindi che $$E = \\{(x_1,y_1),\\ldots,(x_n,y_n)\\}$$\n",
    "Sempre per semplicità consideriamo i caratteri di tipo quantitativo e discreto (se fossero continui basterebbe raggrupparli in classi). "
   ]
  },
  {
   "cell_type": "code",
   "execution_count": 38,
   "metadata": {
    "collapsed": false
   },
   "outputs": [
    {
     "data": {
      "image/png": "[encoded data removed]",
      "text/plain": [
       "Plot with title “bubble plot”"
      ]
     },
     "metadata": {},
     "output_type": "display_data"
    }
   ],
   "source": [
    "# carichiamo un dataset che mette in relazione l'età e l'altezza in CM\n",
    "\n",
    "csv = read.csv(\"dataset/etaAltezza.csv\", sep=\";\", header=TRUE)\n",
    "dataset = table(csv)\n",
    "require(\"labstatR\")\n",
    "bubbleplot(dataset)"
   ]
  },
  {
   "cell_type": "markdown",
   "metadata": {},
   "source": [
    "### Frequenze\n",
    "Avremmo quindi anche $S$, l'insieme delle coppie di valori assumibili per i caratteri analizzati costruito così:\n",
    "$$S=\\{(s_j,u_k); j=\\{1,\\ldots,N\\} \\land k=\\{1,\\ldots,M\\} \\}$$\n",
    "\n",
    "Viene quindi naturale definire il concetto di **frequenza assoluta** di una coppia $(s_j, u_k)$, cioè quella quantità $f_{jk}$ che rappresenta il numero di elementi di $E$ aventi valore $(s_j,u_k)$.\n",
    "\n",
    "Di conseguenza definiremo anche la **funzione di distribuzione di frequenza assoluta doppia** come la funzione che associa ad ogni coppia di valori $(s_j, u_k)$ la corrispondente frequenza $f_{jk}$.\n",
    "\n",
    "Estendiamo dal caso unidimensionale anche il concetto di **frequenza cumulata assoluta**, **frequenza relativa**, **frequenza cumulata relativa**."
   ]
  },
  {
   "cell_type": "code",
   "execution_count": 50,
   "metadata": {
    "collapsed": false
   },
   "outputs": [
    {
     "data": {
      "text/plain": [
       "    Altezza\n",
       "Età 165 171 173 175 185\n",
       "  18   0   1   0   1   0\n",
       "  19   0   0   2   0   0\n",
       "  20   0   0   0   2   1\n",
       "  21   1   0   0   0   0\n",
       "  22   0   0   1   0   0"
      ]
     },
     "metadata": {},
     "output_type": "display_data"
    },
    {
     "data": {
      "text/plain": [
       "    Altezza\n",
       "Età  165  171  173  175  185\n",
       "  18 0.00 0.11 0.00 0.11 0.00\n",
       "  19 0.00 0.00 0.22 0.00 0.00\n",
       "  20 0.00 0.00 0.00 0.22 0.11\n",
       "  21 0.11 0.00 0.00 0.00 0.00\n",
       "  22 0.00 0.00 0.11 0.00 0.00"
      ]
     },
     "metadata": {},
     "output_type": "display_data"
    }
   ],
   "source": [
    "dataset # stampa la frequenza assoluta di ogni coppia\n",
    "round(prop.table(dataset), 2) # stampa la frequenza relativa"
   ]
  },
  {
   "cell_type": "markdown",
   "metadata": {
    "collapsed": true
   },
   "source": [
    "#### Distribuzioni marginale\n",
    "\n",
    "Con **distribuzione marginale** si intende la distribuzione di un singolo carattere, preso indipendentemente dall'altro o dagli altri caratteri a cui è associato.\n",
    "\n",
    "In particolare definiamo come **frequenza assoluta marginale** la qunantità $f_{xj}$ data lda numero di elementi il cui primo carattere ha valore $s_j$, cioè $$f_{xj} = \\text{numero di elementi di }E \\text{ aventi valore }(s_j,\\cdot)$$\n",
    "\n",
    "Di conseguenza definiamo anche la frequenza cumulata assoluta marginale (come somma delle frequenze assolute marginali di tutti i valori $s_k$ tali che $s_k \\leq s_j$), la frequenza relativa marginale (come $\\frac{f_{xj}}{n}$), la frequenza cumulata relativa marginale."
   ]
  },
  {
   "cell_type": "markdown",
   "metadata": {},
   "source": [
    "### Covarianza\n",
    "\n",
    "Risulta naturale pensare che possa esistere una relazione di dipendenza tra i valori dei caratteri presenti per ogni coppia (e cioè se per il nostro caso pratico esista una correlazione tra età e altezza). \n",
    "\n",
    "Attraverso la covarianza è possibile capire se due serie di dati sono correlate o meglio se i suoi dati sono correlati. Essa è definita così: $$c_{xy} = \\frac{1}{n} \\sum^{n}_{i=1} (x_i - \\bar{x})(y_i - \\bar{y})$$\n",
    "\n",
    "La formula della covarianza assomiglia molto alla formula di $s^2$.\n",
    "\n",
    "La covarianza assume un valore assoluto positivo che diviene grande nel caso in cui $(x_i - \\bar{x})$ abbia segno concorde con $(y_i - \\bar{y})$, si sommeranno infatti valori sempre positivi. In questo caso le due serie di dati sono fortemente correlate.\n",
    "\n",
    "Viceversa nel caso in cui i dati non siano correlati (e quindi i segni dei termini del prodotto sarebbero discordi) la covarianza assumerà un valore piccolo, eventualmente prossimo allo 0.\n",
    "\n",
    "La covarianza è calcolabile anche come: $$c_{xy} = \\frac{1}{n} \\sum^{n}_{i=1} x_iy_i - \\bar{x}\\bar{y}$$\n",
    "\n",
    "E' possibile rappresentare la covarianza anche come matrice 2x2: l'elemento di posizione $(1,1)$ sarà la varianza di $x$, l'elemento di posizione $(2,2)$ la varianza di $y$ e gli elementi $(1,2), (2,1)$ la covarianza tra $x$ e $y$"
   ]
  },
  {
   "cell_type": "code",
   "execution_count": 54,
   "metadata": {
    "collapsed": false
   },
   "outputs": [
    {
     "data": {
      "text/html": [
       "-0.666666666666667"
      ],
      "text/latex": [
       "-0.666666666666667"
      ],
      "text/markdown": [
       "-0.666666666666667"
      ],
      "text/plain": [
       "[1] -0.6666667"
      ]
     },
     "metadata": {},
     "output_type": "display_data"
    },
    {
     "data": {
      "text/html": [
       "<table>\n",
       "<thead><tr><th></th><th scope=col>Età</th><th scope=col>Altezza</th></tr></thead>\n",
       "<tbody>\n",
       "\t<tr><th scope=row>Età</th><td> 1.7500000</td><td>-0.6666667</td></tr>\n",
       "\t<tr><th scope=row>Altezza</th><td>-0.6666667</td><td>27.1111111</td></tr>\n",
       "</tbody>\n",
       "</table>\n"
      ],
      "text/latex": [
       "\\begin{tabular}{r|ll}\n",
       "  & Età & Altezza\\\\\n",
       "\\hline\n",
       "\tEtà &  1.7500000 & -0.6666667\\\\\n",
       "\tAltezza & -0.6666667 & 27.1111111\\\\\n",
       "\\end{tabular}\n"
      ],
      "text/markdown": [
       "\n",
       "| <!--/--> | Età | Altezza | \n",
       "|---|---|\n",
       "| Età |  1.7500000 | -0.6666667 | \n",
       "| Altezza | -0.6666667 | 27.1111111 | \n",
       "\n",
       "\n"
      ],
      "text/plain": [
       "        Età        Altezza   \n",
       "Età      1.7500000 -0.6666667\n",
       "Altezza -0.6666667 27.1111111"
      ]
     },
     "metadata": {},
     "output_type": "display_data"
    }
   ],
   "source": [
    "cov(csv$Età,csv$Altezza)\n",
    "cov(csv)"
   ]
  },
  {
   "cell_type": "markdown",
   "metadata": {
    "collapsed": true
   },
   "source": [
    "#### Incorrelazione ed indipendenza\n",
    "\n",
    "Due serie di dati ${x_i} {y_i}$ si dicono **statisticamente incorrelate** se la loro covarianza è nulla.\n",
    "\n",
    "Si dicono invece **statisticamente indipendenti** se vale che $p_{jk}=p_j p_k$\n",
    "\n",
    "Due serie di dati statisticamente indipendenti sono incorrelate, mentre non è vero il contrario. \n",
    "\n",
    "\\begin{align}\n",
    "\\text{Indipendenza } \\to \\text{Incorrelazione} \\\\\n",
    "\\text{Incorrelazione } \\not\\to \\text{Indipendenza}\n",
    "\\end{align}\n"
   ]
  },
  {
   "cell_type": "markdown",
   "metadata": {},
   "source": [
    "## Regressione\n",
    "\n",
    "Preso un campione di coppie di dati, relativi a due caratteri, viene naturale chiedersi se tra questi due caratteri esista un legame di tipo funzionale, o per meglio dire una relazione di tipo funzionale che descriva in modo rigoroso il legame esistente. L'operazione di ricerca di questo legame è detta **analisi di regressione**.\n",
    "\n",
    "Alla base di questa analisi c'è l'ipotesi che uno dei due caratteri deve essere considerato come una **variabile indipendente** (ad esempio $x$). Si cerca quindi di stabilire una funzione $f(x)$ che consente di scrivere $$y=f(x)$$ in modo che sia descritto al meglio il legame tra $x$ e $y$.\n",
    "\n",
    "Ma cosa si intende con \"descrivere al meglio il legame tra i due caratteri\"? Generalmente si determina $f$ come la funzione che minimizza le distanze tra i valori di $y$ e quelli che si otterrebbero per il carattere $y$ se la relazione che lega $y$ ad $x$ fosse proprio quella descritta da $f$.\n",
    "\n",
    "Formalmente si cerca la funzione $f$ che minimizza $$g(f) = \\sum^n_{i=1}[f(x_i)-y_i]^2$$.\n",
    "\n",
    "### Regressione lineare\n",
    "\n",
    "Nel caso in cui $f$ sia vincolata ad essere una retta parleremo di **regressione lineare**. In questo caso il problema si riduce ad individuare i coefficienti $m$ e $q$ della equazione $$y=mx+q$$ in modo che sia minima la quantità $$g(m,q) = \\sum^n_{i=1} [mx_i + q - y_i]^2$$\n",
    "\n",
    "In particolare avremo che $$m=\\frac{c_{xy}}{s^2_x}$$ e $$q=\\bar{y}-\\frac{c_{xy}}{s^2_x}\\bar{x}$$\n",
    "\n",
    "Importante in questo caso è il **coefficiente di correlazione lineare** $$r_{xy} = \\frac{c_{xy}}{s_x s_y}$$\n",
    "Questo coefficiente assume sempre valori nell'intervallo $[-1,1]$. Questo coefficiente è nullo nel caso in cui le serie di dati sono statisticamente incorrelate, mentre è pari a $1$ quando le coppie di dati si trovano esattamente allneate sulla retta. Rappresenta quindi il grado di allineamento delle coppie di dati.\n"
   ]
  },
  {
   "cell_type": "markdown",
   "metadata": {},
   "source": [
    "### Regressione non lineare\n",
    "\n"
   ]
  }
 ],
 "metadata": {
  "kernelspec": {
   "display_name": "R",
   "language": "R",
   "name": "ir"
  },
  "language_info": {
   "codemirror_mode": "r",
   "file_extension": ".r",
   "mimetype": "text/x-r-source",
   "name": "R",
   "pygments_lexer": "r",
   "version": "3.3.3"
  }
 },
 "nbformat": 4,
 "nbformat_minor": 2
}
